{
  "metadata": {
    "kernelspec": {
      "language": "python",
      "display_name": "Python 3",
      "name": "python3"
    },
    "language_info": {
      "name": "python",
      "version": "3.10.12",
      "mimetype": "text/x-python",
      "codemirror_mode": {
        "name": "ipython",
        "version": 3
      },
      "pygments_lexer": "ipython3",
      "nbconvert_exporter": "python",
      "file_extension": ".py"
    },
    "kaggle": {
      "accelerator": "none",
      "dataSources": [
        {
          "sourceId": 995609,
          "sourceType": "datasetVersion",
          "datasetId": 545832
        },
        {
          "sourceId": 3878952,
          "sourceType": "datasetVersion",
          "datasetId": 2299543
        }
      ],
      "dockerImageVersionId": 30635,
      "isInternetEnabled": true,
      "language": "python",
      "sourceType": "notebook",
      "isGpuEnabled": false
    },
    "colab": {
      "provenance": []
    }
  },
  "nbformat_minor": 0,
  "nbformat": 4,
  "cells": [
    {
      "cell_type": "markdown",
      "source": [
        "# **Importing Libraries**"
      ],
      "metadata": {
        "id": "-8a88qvIB9qc"
      }
    },
    {
      "cell_type": "code",
      "source": [
        "import pandas as pd\n",
        "import numpy as np\n",
        "from sklearn.feature_extraction.text import CountVectorizer\n",
        "from sklearn.model_selection import train_test_split\n",
        "from sklearn.naive_bayes import MultinomialNB\n",
        "from sklearn.metrics import accuracy_score\n",
        "from sklearn.metrics import classification_report\n",
        "from sklearn.metrics import f1_score"
      ],
      "metadata": {
        "execution": {
          "iopub.status.busy": "2024-08-19T12:57:05.626761Z",
          "iopub.execute_input": "2024-08-19T12:57:05.62719Z",
          "iopub.status.idle": "2024-08-19T12:57:07.619803Z",
          "shell.execute_reply.started": "2024-08-19T12:57:05.627143Z",
          "shell.execute_reply": "2024-08-19T12:57:07.618306Z"
        },
        "trusted": true,
        "id": "vmSP61ODB9qc"
      },
      "execution_count": 1,
      "outputs": []
    },
    {
      "cell_type": "markdown",
      "source": [
        "# Read Datafile and create dataframe"
      ],
      "metadata": {
        "id": "ZmD_8KKjB9qd"
      }
    },
    {
      "cell_type": "code",
      "source": [
        "item_df = pd.read_csv('content/jio_mart_items.csv' )\n",
        "item_df.info()\n",
        "item_df.head()"
      ],
      "metadata": {
        "execution": {
          "iopub.status.busy": "2024-08-19T12:58:19.02978Z",
          "iopub.execute_input": "2024-08-19T12:58:19.030448Z",
          "iopub.status.idle": "2024-08-19T12:58:20.122703Z",
          "shell.execute_reply.started": "2024-08-19T12:58:19.030414Z",
          "shell.execute_reply": "2024-08-19T12:58:20.121623Z"
        },
        "trusted": true,
        "id": "kO8MchZOB9qd",
        "outputId": "af29373d-2162-47a0-a1c4-7a1607e3417a",
        "colab": {
          "base_uri": "https://localhost:8080/",
          "height": 414
        }
      },
      "execution_count": 2,
      "outputs": [
        {
          "output_type": "stream",
          "name": "stdout",
          "text": [
            "<class 'pandas.core.frame.DataFrame'>\n",
            "RangeIndex: 162313 entries, 0 to 162312\n",
            "Data columns (total 5 columns):\n",
            " #   Column        Non-Null Count   Dtype  \n",
            "---  ------        --------------   -----  \n",
            " 0   category      162313 non-null  object \n",
            " 1   sub_category  162313 non-null  object \n",
            " 2   href          162313 non-null  object \n",
            " 3   items         162280 non-null  object \n",
            " 4   price         162282 non-null  float64\n",
            "dtypes: float64(1), object(4)\n",
            "memory usage: 6.2+ MB\n"
          ]
        },
        {
          "output_type": "execute_result",
          "data": {
            "text/plain": [
              "    category         sub_category  \\\n",
              "0  Groceries  Fruits & Vegetables   \n",
              "1  Groceries  Fruits & Vegetables   \n",
              "2  Groceries  Fruits & Vegetables   \n",
              "3  Groceries  Fruits & Vegetables   \n",
              "4  Groceries  Fruits & Vegetables   \n",
              "\n",
              "                                                href  \\\n",
              "0  https://www.jiomart.com/c/groceries/fruits-veg...   \n",
              "1  https://www.jiomart.com/c/groceries/fruits-veg...   \n",
              "2  https://www.jiomart.com/c/groceries/fruits-veg...   \n",
              "3  https://www.jiomart.com/c/groceries/fruits-veg...   \n",
              "4  https://www.jiomart.com/c/groceries/fruits-veg...   \n",
              "\n",
              "                                               items  price  \n",
              "0          Fresh Dates (Pack) (Approx 450 g - 500 g)  109.0  \n",
              "1  Tender Coconut Cling Wrapped (1 pc) (Approx 90...   49.0  \n",
              "2                                       Mosambi 1 kg   69.0  \n",
              "3                               Orange Imported 1 kg  125.0  \n",
              "4  Banana Robusta 6 pcs (Box) (Approx 800 g - 110...   44.0  "
            ],
            "text/html": [
              "\n",
              "  <div id=\"df-270b30d5-496f-4493-a41a-cbac7b0386c9\" class=\"colab-df-container\">\n",
              "    <div>\n",
              "<style scoped>\n",
              "    .dataframe tbody tr th:only-of-type {\n",
              "        vertical-align: middle;\n",
              "    }\n",
              "\n",
              "    .dataframe tbody tr th {\n",
              "        vertical-align: top;\n",
              "    }\n",
              "\n",
              "    .dataframe thead th {\n",
              "        text-align: right;\n",
              "    }\n",
              "</style>\n",
              "<table border=\"1\" class=\"dataframe\">\n",
              "  <thead>\n",
              "    <tr style=\"text-align: right;\">\n",
              "      <th></th>\n",
              "      <th>category</th>\n",
              "      <th>sub_category</th>\n",
              "      <th>href</th>\n",
              "      <th>items</th>\n",
              "      <th>price</th>\n",
              "    </tr>\n",
              "  </thead>\n",
              "  <tbody>\n",
              "    <tr>\n",
              "      <th>0</th>\n",
              "      <td>Groceries</td>\n",
              "      <td>Fruits &amp; Vegetables</td>\n",
              "      <td>https://www.jiomart.com/c/groceries/fruits-veg...</td>\n",
              "      <td>Fresh Dates (Pack) (Approx 450 g - 500 g)</td>\n",
              "      <td>109.0</td>\n",
              "    </tr>\n",
              "    <tr>\n",
              "      <th>1</th>\n",
              "      <td>Groceries</td>\n",
              "      <td>Fruits &amp; Vegetables</td>\n",
              "      <td>https://www.jiomart.com/c/groceries/fruits-veg...</td>\n",
              "      <td>Tender Coconut Cling Wrapped (1 pc) (Approx 90...</td>\n",
              "      <td>49.0</td>\n",
              "    </tr>\n",
              "    <tr>\n",
              "      <th>2</th>\n",
              "      <td>Groceries</td>\n",
              "      <td>Fruits &amp; Vegetables</td>\n",
              "      <td>https://www.jiomart.com/c/groceries/fruits-veg...</td>\n",
              "      <td>Mosambi 1 kg</td>\n",
              "      <td>69.0</td>\n",
              "    </tr>\n",
              "    <tr>\n",
              "      <th>3</th>\n",
              "      <td>Groceries</td>\n",
              "      <td>Fruits &amp; Vegetables</td>\n",
              "      <td>https://www.jiomart.com/c/groceries/fruits-veg...</td>\n",
              "      <td>Orange Imported 1 kg</td>\n",
              "      <td>125.0</td>\n",
              "    </tr>\n",
              "    <tr>\n",
              "      <th>4</th>\n",
              "      <td>Groceries</td>\n",
              "      <td>Fruits &amp; Vegetables</td>\n",
              "      <td>https://www.jiomart.com/c/groceries/fruits-veg...</td>\n",
              "      <td>Banana Robusta 6 pcs (Box) (Approx 800 g - 110...</td>\n",
              "      <td>44.0</td>\n",
              "    </tr>\n",
              "  </tbody>\n",
              "</table>\n",
              "</div>\n",
              "    <div class=\"colab-df-buttons\">\n",
              "\n",
              "  <div class=\"colab-df-container\">\n",
              "    <button class=\"colab-df-convert\" onclick=\"convertToInteractive('df-270b30d5-496f-4493-a41a-cbac7b0386c9')\"\n",
              "            title=\"Convert this dataframe to an interactive table.\"\n",
              "            style=\"display:none;\">\n",
              "\n",
              "  <svg xmlns=\"http://www.w3.org/2000/svg\" height=\"24px\" viewBox=\"0 -960 960 960\">\n",
              "    <path d=\"M120-120v-720h720v720H120Zm60-500h600v-160H180v160Zm220 220h160v-160H400v160Zm0 220h160v-160H400v160ZM180-400h160v-160H180v160Zm440 0h160v-160H620v160ZM180-180h160v-160H180v160Zm440 0h160v-160H620v160Z\"/>\n",
              "  </svg>\n",
              "    </button>\n",
              "\n",
              "  <style>\n",
              "    .colab-df-container {\n",
              "      display:flex;\n",
              "      gap: 12px;\n",
              "    }\n",
              "\n",
              "    .colab-df-convert {\n",
              "      background-color: #E8F0FE;\n",
              "      border: none;\n",
              "      border-radius: 50%;\n",
              "      cursor: pointer;\n",
              "      display: none;\n",
              "      fill: #1967D2;\n",
              "      height: 32px;\n",
              "      padding: 0 0 0 0;\n",
              "      width: 32px;\n",
              "    }\n",
              "\n",
              "    .colab-df-convert:hover {\n",
              "      background-color: #E2EBFA;\n",
              "      box-shadow: 0px 1px 2px rgba(60, 64, 67, 0.3), 0px 1px 3px 1px rgba(60, 64, 67, 0.15);\n",
              "      fill: #174EA6;\n",
              "    }\n",
              "\n",
              "    .colab-df-buttons div {\n",
              "      margin-bottom: 4px;\n",
              "    }\n",
              "\n",
              "    [theme=dark] .colab-df-convert {\n",
              "      background-color: #3B4455;\n",
              "      fill: #D2E3FC;\n",
              "    }\n",
              "\n",
              "    [theme=dark] .colab-df-convert:hover {\n",
              "      background-color: #434B5C;\n",
              "      box-shadow: 0px 1px 3px 1px rgba(0, 0, 0, 0.15);\n",
              "      filter: drop-shadow(0px 1px 2px rgba(0, 0, 0, 0.3));\n",
              "      fill: #FFFFFF;\n",
              "    }\n",
              "  </style>\n",
              "\n",
              "    <script>\n",
              "      const buttonEl =\n",
              "        document.querySelector('#df-270b30d5-496f-4493-a41a-cbac7b0386c9 button.colab-df-convert');\n",
              "      buttonEl.style.display =\n",
              "        google.colab.kernel.accessAllowed ? 'block' : 'none';\n",
              "\n",
              "      async function convertToInteractive(key) {\n",
              "        const element = document.querySelector('#df-270b30d5-496f-4493-a41a-cbac7b0386c9');\n",
              "        const dataTable =\n",
              "          await google.colab.kernel.invokeFunction('convertToInteractive',\n",
              "                                                    [key], {});\n",
              "        if (!dataTable) return;\n",
              "\n",
              "        const docLinkHtml = 'Like what you see? Visit the ' +\n",
              "          '<a target=\"_blank\" href=https://colab.research.google.com/notebooks/data_table.ipynb>data table notebook</a>'\n",
              "          + ' to learn more about interactive tables.';\n",
              "        element.innerHTML = '';\n",
              "        dataTable['output_type'] = 'display_data';\n",
              "        await google.colab.output.renderOutput(dataTable, element);\n",
              "        const docLink = document.createElement('div');\n",
              "        docLink.innerHTML = docLinkHtml;\n",
              "        element.appendChild(docLink);\n",
              "      }\n",
              "    </script>\n",
              "  </div>\n",
              "\n",
              "\n",
              "<div id=\"df-7004105c-7036-410e-83b6-c318925cd631\">\n",
              "  <button class=\"colab-df-quickchart\" onclick=\"quickchart('df-7004105c-7036-410e-83b6-c318925cd631')\"\n",
              "            title=\"Suggest charts\"\n",
              "            style=\"display:none;\">\n",
              "\n",
              "<svg xmlns=\"http://www.w3.org/2000/svg\" height=\"24px\"viewBox=\"0 0 24 24\"\n",
              "     width=\"24px\">\n",
              "    <g>\n",
              "        <path d=\"M19 3H5c-1.1 0-2 .9-2 2v14c0 1.1.9 2 2 2h14c1.1 0 2-.9 2-2V5c0-1.1-.9-2-2-2zM9 17H7v-7h2v7zm4 0h-2V7h2v10zm4 0h-2v-4h2v4z\"/>\n",
              "    </g>\n",
              "</svg>\n",
              "  </button>\n",
              "\n",
              "<style>\n",
              "  .colab-df-quickchart {\n",
              "      --bg-color: #E8F0FE;\n",
              "      --fill-color: #1967D2;\n",
              "      --hover-bg-color: #E2EBFA;\n",
              "      --hover-fill-color: #174EA6;\n",
              "      --disabled-fill-color: #AAA;\n",
              "      --disabled-bg-color: #DDD;\n",
              "  }\n",
              "\n",
              "  [theme=dark] .colab-df-quickchart {\n",
              "      --bg-color: #3B4455;\n",
              "      --fill-color: #D2E3FC;\n",
              "      --hover-bg-color: #434B5C;\n",
              "      --hover-fill-color: #FFFFFF;\n",
              "      --disabled-bg-color: #3B4455;\n",
              "      --disabled-fill-color: #666;\n",
              "  }\n",
              "\n",
              "  .colab-df-quickchart {\n",
              "    background-color: var(--bg-color);\n",
              "    border: none;\n",
              "    border-radius: 50%;\n",
              "    cursor: pointer;\n",
              "    display: none;\n",
              "    fill: var(--fill-color);\n",
              "    height: 32px;\n",
              "    padding: 0;\n",
              "    width: 32px;\n",
              "  }\n",
              "\n",
              "  .colab-df-quickchart:hover {\n",
              "    background-color: var(--hover-bg-color);\n",
              "    box-shadow: 0 1px 2px rgba(60, 64, 67, 0.3), 0 1px 3px 1px rgba(60, 64, 67, 0.15);\n",
              "    fill: var(--button-hover-fill-color);\n",
              "  }\n",
              "\n",
              "  .colab-df-quickchart-complete:disabled,\n",
              "  .colab-df-quickchart-complete:disabled:hover {\n",
              "    background-color: var(--disabled-bg-color);\n",
              "    fill: var(--disabled-fill-color);\n",
              "    box-shadow: none;\n",
              "  }\n",
              "\n",
              "  .colab-df-spinner {\n",
              "    border: 2px solid var(--fill-color);\n",
              "    border-color: transparent;\n",
              "    border-bottom-color: var(--fill-color);\n",
              "    animation:\n",
              "      spin 1s steps(1) infinite;\n",
              "  }\n",
              "\n",
              "  @keyframes spin {\n",
              "    0% {\n",
              "      border-color: transparent;\n",
              "      border-bottom-color: var(--fill-color);\n",
              "      border-left-color: var(--fill-color);\n",
              "    }\n",
              "    20% {\n",
              "      border-color: transparent;\n",
              "      border-left-color: var(--fill-color);\n",
              "      border-top-color: var(--fill-color);\n",
              "    }\n",
              "    30% {\n",
              "      border-color: transparent;\n",
              "      border-left-color: var(--fill-color);\n",
              "      border-top-color: var(--fill-color);\n",
              "      border-right-color: var(--fill-color);\n",
              "    }\n",
              "    40% {\n",
              "      border-color: transparent;\n",
              "      border-right-color: var(--fill-color);\n",
              "      border-top-color: var(--fill-color);\n",
              "    }\n",
              "    60% {\n",
              "      border-color: transparent;\n",
              "      border-right-color: var(--fill-color);\n",
              "    }\n",
              "    80% {\n",
              "      border-color: transparent;\n",
              "      border-right-color: var(--fill-color);\n",
              "      border-bottom-color: var(--fill-color);\n",
              "    }\n",
              "    90% {\n",
              "      border-color: transparent;\n",
              "      border-bottom-color: var(--fill-color);\n",
              "    }\n",
              "  }\n",
              "</style>\n",
              "\n",
              "  <script>\n",
              "    async function quickchart(key) {\n",
              "      const quickchartButtonEl =\n",
              "        document.querySelector('#' + key + ' button');\n",
              "      quickchartButtonEl.disabled = true;  // To prevent multiple clicks.\n",
              "      quickchartButtonEl.classList.add('colab-df-spinner');\n",
              "      try {\n",
              "        const charts = await google.colab.kernel.invokeFunction(\n",
              "            'suggestCharts', [key], {});\n",
              "      } catch (error) {\n",
              "        console.error('Error during call to suggestCharts:', error);\n",
              "      }\n",
              "      quickchartButtonEl.classList.remove('colab-df-spinner');\n",
              "      quickchartButtonEl.classList.add('colab-df-quickchart-complete');\n",
              "    }\n",
              "    (() => {\n",
              "      let quickchartButtonEl =\n",
              "        document.querySelector('#df-7004105c-7036-410e-83b6-c318925cd631 button');\n",
              "      quickchartButtonEl.style.display =\n",
              "        google.colab.kernel.accessAllowed ? 'block' : 'none';\n",
              "    })();\n",
              "  </script>\n",
              "</div>\n",
              "\n",
              "    </div>\n",
              "  </div>\n"
            ],
            "application/vnd.google.colaboratory.intrinsic+json": {
              "type": "dataframe",
              "variable_name": "item_df"
            }
          },
          "metadata": {},
          "execution_count": 2
        }
      ]
    },
    {
      "cell_type": "markdown",
      "source": [
        "There are null values in items. Drop rows with null in items"
      ],
      "metadata": {
        "id": "fcsJs4CuB9qd"
      }
    },
    {
      "cell_type": "code",
      "source": [
        "item_df = item_df.loc[~item_df['items'].isna(), :]"
      ],
      "metadata": {
        "execution": {
          "iopub.status.busy": "2024-08-19T12:58:50.32738Z",
          "iopub.execute_input": "2024-08-19T12:58:50.327805Z",
          "iopub.status.idle": "2024-08-19T12:58:50.368572Z",
          "shell.execute_reply.started": "2024-08-19T12:58:50.327771Z",
          "shell.execute_reply": "2024-08-19T12:58:50.367351Z"
        },
        "trusted": true,
        "id": "IWIIpP01B9qd"
      },
      "execution_count": 3,
      "outputs": []
    },
    {
      "cell_type": "code",
      "source": [
        "item_df.info()"
      ],
      "metadata": {
        "execution": {
          "iopub.status.busy": "2024-08-19T12:58:55.3026Z",
          "iopub.execute_input": "2024-08-19T12:58:55.303027Z",
          "iopub.status.idle": "2024-08-19T12:58:55.386444Z",
          "shell.execute_reply.started": "2024-08-19T12:58:55.302992Z",
          "shell.execute_reply": "2024-08-19T12:58:55.384939Z"
        },
        "trusted": true,
        "id": "n-hCL5iyB9qe",
        "colab": {
          "base_uri": "https://localhost:8080/"
        },
        "outputId": "fc28773f-8f82-478e-d61e-6c1f4b35cbf0"
      },
      "execution_count": 4,
      "outputs": [
        {
          "output_type": "stream",
          "name": "stdout",
          "text": [
            "<class 'pandas.core.frame.DataFrame'>\n",
            "Index: 162280 entries, 0 to 162312\n",
            "Data columns (total 5 columns):\n",
            " #   Column        Non-Null Count   Dtype  \n",
            "---  ------        --------------   -----  \n",
            " 0   category      162280 non-null  object \n",
            " 1   sub_category  162280 non-null  object \n",
            " 2   href          162280 non-null  object \n",
            " 3   items         162280 non-null  object \n",
            " 4   price         162280 non-null  float64\n",
            "dtypes: float64(1), object(4)\n",
            "memory usage: 7.4+ MB\n"
          ]
        }
      ]
    },
    {
      "cell_type": "markdown",
      "source": [
        "# Exploratory Data Analysis"
      ],
      "metadata": {
        "id": "xST3eVjKB9qe"
      }
    },
    {
      "cell_type": "markdown",
      "source": [
        "Count of rows in each category"
      ],
      "metadata": {
        "id": "LzvHsPFgB9qe"
      }
    },
    {
      "cell_type": "code",
      "source": [
        "item_df.category.value_counts()"
      ],
      "metadata": {
        "execution": {
          "iopub.status.busy": "2024-08-19T12:59:00.934875Z",
          "iopub.execute_input": "2024-08-19T12:59:00.935307Z",
          "iopub.status.idle": "2024-08-19T12:59:00.966332Z",
          "shell.execute_reply.started": "2024-08-19T12:59:00.935273Z",
          "shell.execute_reply": "2024-08-19T12:59:00.965154Z"
        },
        "trusted": true,
        "id": "5KDrF6w-B9qe",
        "colab": {
          "base_uri": "https://localhost:8080/",
          "height": 303
        },
        "outputId": "2317cba3-d01c-49d6-cfbf-fee5920b2a5a"
      },
      "execution_count": 5,
      "outputs": [
        {
          "output_type": "execute_result",
          "data": {
            "text/plain": [
              "category\n",
              "Home & Kitchen    60329\n",
              "Groceries         46043\n",
              "Fashion           26087\n",
              "Electronics       19018\n",
              "Beauty            10733\n",
              "Jewellery            70\n",
              "Name: count, dtype: int64"
            ],
            "text/html": [
              "<div>\n",
              "<style scoped>\n",
              "    .dataframe tbody tr th:only-of-type {\n",
              "        vertical-align: middle;\n",
              "    }\n",
              "\n",
              "    .dataframe tbody tr th {\n",
              "        vertical-align: top;\n",
              "    }\n",
              "\n",
              "    .dataframe thead th {\n",
              "        text-align: right;\n",
              "    }\n",
              "</style>\n",
              "<table border=\"1\" class=\"dataframe\">\n",
              "  <thead>\n",
              "    <tr style=\"text-align: right;\">\n",
              "      <th></th>\n",
              "      <th>count</th>\n",
              "    </tr>\n",
              "    <tr>\n",
              "      <th>category</th>\n",
              "      <th></th>\n",
              "    </tr>\n",
              "  </thead>\n",
              "  <tbody>\n",
              "    <tr>\n",
              "      <th>Home &amp; Kitchen</th>\n",
              "      <td>60329</td>\n",
              "    </tr>\n",
              "    <tr>\n",
              "      <th>Groceries</th>\n",
              "      <td>46043</td>\n",
              "    </tr>\n",
              "    <tr>\n",
              "      <th>Fashion</th>\n",
              "      <td>26087</td>\n",
              "    </tr>\n",
              "    <tr>\n",
              "      <th>Electronics</th>\n",
              "      <td>19018</td>\n",
              "    </tr>\n",
              "    <tr>\n",
              "      <th>Beauty</th>\n",
              "      <td>10733</td>\n",
              "    </tr>\n",
              "    <tr>\n",
              "      <th>Jewellery</th>\n",
              "      <td>70</td>\n",
              "    </tr>\n",
              "  </tbody>\n",
              "</table>\n",
              "</div><br><label><b>dtype:</b> int64</label>"
            ]
          },
          "metadata": {},
          "execution_count": 5
        }
      ]
    },
    {
      "cell_type": "code",
      "source": [
        "item_df.category.value_counts().plot(kind='bar',figsize = (4, 3))"
      ],
      "metadata": {
        "execution": {
          "iopub.status.busy": "2024-08-19T12:59:04.052526Z",
          "iopub.execute_input": "2024-08-19T12:59:04.05295Z",
          "iopub.status.idle": "2024-08-19T12:59:04.493151Z",
          "shell.execute_reply.started": "2024-08-19T12:59:04.052914Z",
          "shell.execute_reply": "2024-08-19T12:59:04.49184Z"
        },
        "trusted": true,
        "id": "sa-5E73DB9qf",
        "colab": {
          "base_uri": "https://localhost:8080/",
          "height": 426
        },
        "outputId": "43b9bd04-ba62-4839-f573-a9eb18c81d22"
      },
      "execution_count": 6,
      "outputs": [
        {
          "output_type": "execute_result",
          "data": {
            "text/plain": [
              "<Axes: xlabel='category'>"
            ]
          },
          "metadata": {},
          "execution_count": 6
        },
        {
          "output_type": "display_data",
          "data": {
            "text/plain": [
              "<Figure size 400x300 with 1 Axes>"
            ],
            "image/png": "[encoded data removed]"
          },
          "metadata": {}
        }
      ]
    },
    {
      "cell_type": "code",
      "source": [
        "item_df.category.nunique()"
      ],
      "metadata": {
        "execution": {
          "iopub.status.busy": "2024-08-19T12:59:09.58014Z",
          "iopub.execute_input": "2024-08-19T12:59:09.580558Z",
          "iopub.status.idle": "2024-08-19T12:59:09.604614Z",
          "shell.execute_reply.started": "2024-08-19T12:59:09.580525Z",
          "shell.execute_reply": "2024-08-19T12:59:09.603351Z"
        },
        "trusted": true,
        "id": "mbdKIarPB9qf",
        "colab": {
          "base_uri": "https://localhost:8080/"
        },
        "outputId": "56cc27b6-408b-44d0-f2cb-9c74ae5f3641"
      },
      "execution_count": 7,
      "outputs": [
        {
          "output_type": "execute_result",
          "data": {
            "text/plain": [
              "6"
            ]
          },
          "metadata": {},
          "execution_count": 7
        }
      ]
    },
    {
      "cell_type": "markdown",
      "source": [
        "Count of rows in sub-categories"
      ],
      "metadata": {
        "id": "SDF-p1ZyB9qf"
      }
    },
    {
      "cell_type": "code",
      "source": [
        "item_df.groupby ('category')['sub_category'].value_counts()"
      ],
      "metadata": {
        "execution": {
          "iopub.status.busy": "2024-08-19T12:59:12.076715Z",
          "iopub.execute_input": "2024-08-19T12:59:12.077196Z",
          "iopub.status.idle": "2024-08-19T12:59:12.137092Z",
          "shell.execute_reply.started": "2024-08-19T12:59:12.077153Z",
          "shell.execute_reply": "2024-08-19T12:59:12.135992Z"
        },
        "trusted": true,
        "id": "KCwNe4huB9qf",
        "colab": {
          "base_uri": "https://localhost:8080/",
          "height": 489
        },
        "outputId": "bea6c285-bd18-4a09-b156-0fbe0f738cd9"
      },
      "execution_count": 8,
      "outputs": [
        {
          "output_type": "execute_result",
          "data": {
            "text/plain": [
              "category        sub_category                       \n",
              "Beauty          Make-Up                                3962\n",
              "                Fragrances                             2335\n",
              "                Skin Care                              1837\n",
              "                Personal Care                          1234\n",
              "                Hair                                    993\n",
              "                                                       ... \n",
              "Home & Kitchen  Hardware & Plumbing                      30\n",
              "                Handloom & Handicraft                    15\n",
              "                Building Supplies & Measuring Tools       1\n",
              "                Personal Wear                             1\n",
              "Jewellery       Fine Jewellery                           70\n",
              "Name: count, Length: 71, dtype: int64"
            ],
            "text/html": [
              "<div>\n",
              "<style scoped>\n",
              "    .dataframe tbody tr th:only-of-type {\n",
              "        vertical-align: middle;\n",
              "    }\n",
              "\n",
              "    .dataframe tbody tr th {\n",
              "        vertical-align: top;\n",
              "    }\n",
              "\n",
              "    .dataframe thead th {\n",
              "        text-align: right;\n",
              "    }\n",
              "</style>\n",
              "<table border=\"1\" class=\"dataframe\">\n",
              "  <thead>\n",
              "    <tr style=\"text-align: right;\">\n",
              "      <th></th>\n",
              "      <th></th>\n",
              "      <th>count</th>\n",
              "    </tr>\n",
              "    <tr>\n",
              "      <th>category</th>\n",
              "      <th>sub_category</th>\n",
              "      <th></th>\n",
              "    </tr>\n",
              "  </thead>\n",
              "  <tbody>\n",
              "    <tr>\n",
              "      <th rowspan=\"5\" valign=\"top\">Beauty</th>\n",
              "      <th>Make-Up</th>\n",
              "      <td>3962</td>\n",
              "    </tr>\n",
              "    <tr>\n",
              "      <th>Fragrances</th>\n",
              "      <td>2335</td>\n",
              "    </tr>\n",
              "    <tr>\n",
              "      <th>Skin Care</th>\n",
              "      <td>1837</td>\n",
              "    </tr>\n",
              "    <tr>\n",
              "      <th>Personal Care</th>\n",
              "      <td>1234</td>\n",
              "    </tr>\n",
              "    <tr>\n",
              "      <th>Hair</th>\n",
              "      <td>993</td>\n",
              "    </tr>\n",
              "    <tr>\n",
              "      <th>...</th>\n",
              "      <th>...</th>\n",
              "      <td>...</td>\n",
              "    </tr>\n",
              "    <tr>\n",
              "      <th rowspan=\"4\" valign=\"top\">Home &amp; Kitchen</th>\n",
              "      <th>Hardware &amp; Plumbing</th>\n",
              "      <td>30</td>\n",
              "    </tr>\n",
              "    <tr>\n",
              "      <th>Handloom &amp; Handicraft</th>\n",
              "      <td>15</td>\n",
              "    </tr>\n",
              "    <tr>\n",
              "      <th>Building Supplies &amp; Measuring Tools</th>\n",
              "      <td>1</td>\n",
              "    </tr>\n",
              "    <tr>\n",
              "      <th>Personal Wear</th>\n",
              "      <td>1</td>\n",
              "    </tr>\n",
              "    <tr>\n",
              "      <th>Jewellery</th>\n",
              "      <th>Fine Jewellery</th>\n",
              "      <td>70</td>\n",
              "    </tr>\n",
              "  </tbody>\n",
              "</table>\n",
              "<p>71 rows × 1 columns</p>\n",
              "</div><br><label><b>dtype:</b> int64</label>"
            ]
          },
          "metadata": {},
          "execution_count": 8
        }
      ]
    },
    {
      "cell_type": "code",
      "source": [
        "item_df.sub_category.nunique()"
      ],
      "metadata": {
        "execution": {
          "iopub.status.busy": "2024-08-19T12:59:17.086352Z",
          "iopub.execute_input": "2024-08-19T12:59:17.086784Z",
          "iopub.status.idle": "2024-08-19T12:59:17.110454Z",
          "shell.execute_reply.started": "2024-08-19T12:59:17.086751Z",
          "shell.execute_reply": "2024-08-19T12:59:17.109194Z"
        },
        "trusted": true,
        "id": "ZmTAPdSZB9qf",
        "colab": {
          "base_uri": "https://localhost:8080/"
        },
        "outputId": "b687cecb-7057-4923-b640-f158cadb96cd"
      },
      "execution_count": 9,
      "outputs": [
        {
          "output_type": "execute_result",
          "data": {
            "text/plain": [
              "69"
            ]
          },
          "metadata": {},
          "execution_count": 9
        }
      ]
    },
    {
      "cell_type": "code",
      "source": [
        "item_df.sub_category.value_counts().plot(kind='bar',figsize = (15, 3))"
      ],
      "metadata": {
        "execution": {
          "iopub.status.busy": "2024-08-19T12:59:22.777812Z",
          "iopub.execute_input": "2024-08-19T12:59:22.778248Z",
          "iopub.status.idle": "2024-08-19T12:59:23.83566Z",
          "shell.execute_reply.started": "2024-08-19T12:59:22.778213Z",
          "shell.execute_reply": "2024-08-19T12:59:23.834349Z"
        },
        "trusted": true,
        "id": "8NJvkjC3B9qf",
        "colab": {
          "base_uri": "https://localhost:8080/",
          "height": 568
        },
        "outputId": "19117920-aaba-4508-c106-890b041373c8"
      },
      "execution_count": 10,
      "outputs": [
        {
          "output_type": "execute_result",
          "data": {
            "text/plain": [
              "<Axes: xlabel='sub_category'>"
            ]
          },
          "metadata": {},
          "execution_count": 10
        },
        {
          "output_type": "display_data",
          "data": {
            "text/plain": [
              "<Figure size 1500x300 with 1 Axes>"
            ],
            "image/png": "[encoded data removed]"
          },
          "metadata": {}
        }
      ]
    },
    {
      "cell_type": "code",
      "source": [
        "item_df.groupby('sub_category').count()"
      ],
      "metadata": {
        "execution": {
          "iopub.status.busy": "2024-08-19T12:59:37.593479Z",
          "iopub.execute_input": "2024-08-19T12:59:37.593965Z",
          "iopub.status.idle": "2024-08-19T12:59:37.687408Z",
          "shell.execute_reply.started": "2024-08-19T12:59:37.593927Z",
          "shell.execute_reply": "2024-08-19T12:59:37.68628Z"
        },
        "collapsed": true,
        "jupyter": {
          "outputs_hidden": true
        },
        "trusted": true,
        "id": "vwbv_mnnB9qg",
        "colab": {
          "base_uri": "https://localhost:8080/",
          "height": 455
        },
        "outputId": "fd36bfec-670c-4e68-e9b6-9a6500f08331"
      },
      "execution_count": 11,
      "outputs": [
        {
          "output_type": "execute_result",
          "data": {
            "text/plain": [
              "                       category  href  items  price\n",
              "sub_category                                       \n",
              "Accessories                6577  6577   6577   6577\n",
              "Apparel                    1010  1010   1010   1010\n",
              "Auto Care                  4328  4328   4328   4328\n",
              "Ayush                         1     1      1      1\n",
              "Bags & Travel Luggage      2154  2154   2154   2154\n",
              "...                         ...   ...    ...    ...\n",
              "Tools & Appliances           67    67     67     67\n",
              "Toys, Games & Fitness      8594  8594   8594   8594\n",
              "Treatments                    1     1      1      1\n",
              "Wellness                     23    23     23     23\n",
              "Women                      9592  9592   9592   9592\n",
              "\n",
              "[69 rows x 4 columns]"
            ],
            "text/html": [
              "\n",
              "  <div id=\"df-83906797-2a9c-4204-9d29-164706f6a90c\" class=\"colab-df-container\">\n",
              "    <div>\n",
              "<style scoped>\n",
              "    .dataframe tbody tr th:only-of-type {\n",
              "        vertical-align: middle;\n",
              "    }\n",
              "\n",
              "    .dataframe tbody tr th {\n",
              "        vertical-align: top;\n",
              "    }\n",
              "\n",
              "    .dataframe thead th {\n",
              "        text-align: right;\n",
              "    }\n",
              "</style>\n",
              "<table border=\"1\" class=\"dataframe\">\n",
              "  <thead>\n",
              "    <tr style=\"text-align: right;\">\n",
              "      <th></th>\n",
              "      <th>category</th>\n",
              "      <th>href</th>\n",
              "      <th>items</th>\n",
              "      <th>price</th>\n",
              "    </tr>\n",
              "    <tr>\n",
              "      <th>sub_category</th>\n",
              "      <th></th>\n",
              "      <th></th>\n",
              "      <th></th>\n",
              "      <th></th>\n",
              "    </tr>\n",
              "  </thead>\n",
              "  <tbody>\n",
              "    <tr>\n",
              "      <th>Accessories</th>\n",
              "      <td>6577</td>\n",
              "      <td>6577</td>\n",
              "      <td>6577</td>\n",
              "      <td>6577</td>\n",
              "    </tr>\n",
              "    <tr>\n",
              "      <th>Apparel</th>\n",
              "      <td>1010</td>\n",
              "      <td>1010</td>\n",
              "      <td>1010</td>\n",
              "      <td>1010</td>\n",
              "    </tr>\n",
              "    <tr>\n",
              "      <th>Auto Care</th>\n",
              "      <td>4328</td>\n",
              "      <td>4328</td>\n",
              "      <td>4328</td>\n",
              "      <td>4328</td>\n",
              "    </tr>\n",
              "    <tr>\n",
              "      <th>Ayush</th>\n",
              "      <td>1</td>\n",
              "      <td>1</td>\n",
              "      <td>1</td>\n",
              "      <td>1</td>\n",
              "    </tr>\n",
              "    <tr>\n",
              "      <th>Bags &amp; Travel Luggage</th>\n",
              "      <td>2154</td>\n",
              "      <td>2154</td>\n",
              "      <td>2154</td>\n",
              "      <td>2154</td>\n",
              "    </tr>\n",
              "    <tr>\n",
              "      <th>...</th>\n",
              "      <td>...</td>\n",
              "      <td>...</td>\n",
              "      <td>...</td>\n",
              "      <td>...</td>\n",
              "    </tr>\n",
              "    <tr>\n",
              "      <th>Tools &amp; Appliances</th>\n",
              "      <td>67</td>\n",
              "      <td>67</td>\n",
              "      <td>67</td>\n",
              "      <td>67</td>\n",
              "    </tr>\n",
              "    <tr>\n",
              "      <th>Toys, Games &amp; Fitness</th>\n",
              "      <td>8594</td>\n",
              "      <td>8594</td>\n",
              "      <td>8594</td>\n",
              "      <td>8594</td>\n",
              "    </tr>\n",
              "    <tr>\n",
              "      <th>Treatments</th>\n",
              "      <td>1</td>\n",
              "      <td>1</td>\n",
              "      <td>1</td>\n",
              "      <td>1</td>\n",
              "    </tr>\n",
              "    <tr>\n",
              "      <th>Wellness</th>\n",
              "      <td>23</td>\n",
              "      <td>23</td>\n",
              "      <td>23</td>\n",
              "      <td>23</td>\n",
              "    </tr>\n",
              "    <tr>\n",
              "      <th>Women</th>\n",
              "      <td>9592</td>\n",
              "      <td>9592</td>\n",
              "      <td>9592</td>\n",
              "      <td>9592</td>\n",
              "    </tr>\n",
              "  </tbody>\n",
              "</table>\n",
              "<p>69 rows × 4 columns</p>\n",
              "</div>\n",
              "    <div class=\"colab-df-buttons\">\n",
              "\n",
              "  <div class=\"colab-df-container\">\n",
              "    <button class=\"colab-df-convert\" onclick=\"convertToInteractive('df-83906797-2a9c-4204-9d29-164706f6a90c')\"\n",
              "            title=\"Convert this dataframe to an interactive table.\"\n",
              "            style=\"display:none;\">\n",
              "\n",
              "  <svg xmlns=\"http://www.w3.org/2000/svg\" height=\"24px\" viewBox=\"0 -960 960 960\">\n",
              "    <path d=\"M120-120v-720h720v720H120Zm60-500h600v-160H180v160Zm220 220h160v-160H400v160Zm0 220h160v-160H400v160ZM180-400h160v-160H180v160Zm440 0h160v-160H620v160ZM180-180h160v-160H180v160Zm440 0h160v-160H620v160Z\"/>\n",
              "  </svg>\n",
              "    </button>\n",
              "\n",
              "  <style>\n",
              "    .colab-df-container {\n",
              "      display:flex;\n",
              "      gap: 12px;\n",
              "    }\n",
              "\n",
              "    .colab-df-convert {\n",
              "      background-color: #E8F0FE;\n",
              "      border: none;\n",
              "      border-radius: 50%;\n",
              "      cursor: pointer;\n",
              "      display: none;\n",
              "      fill: #1967D2;\n",
              "      height: 32px;\n",
              "      padding: 0 0 0 0;\n",
              "      width: 32px;\n",
              "    }\n",
              "\n",
              "    .colab-df-convert:hover {\n",
              "      background-color: #E2EBFA;\n",
              "      box-shadow: 0px 1px 2px rgba(60, 64, 67, 0.3), 0px 1px 3px 1px rgba(60, 64, 67, 0.15);\n",
              "      fill: #174EA6;\n",
              "    }\n",
              "\n",
              "    .colab-df-buttons div {\n",
              "      margin-bottom: 4px;\n",
              "    }\n",
              "\n",
              "    [theme=dark] .colab-df-convert {\n",
              "      background-color: #3B4455;\n",
              "      fill: #D2E3FC;\n",
              "    }\n",
              "\n",
              "    [theme=dark] .colab-df-convert:hover {\n",
              "      background-color: #434B5C;\n",
              "      box-shadow: 0px 1px 3px 1px rgba(0, 0, 0, 0.15);\n",
              "      filter: drop-shadow(0px 1px 2px rgba(0, 0, 0, 0.3));\n",
              "      fill: #FFFFFF;\n",
              "    }\n",
              "  </style>\n",
              "\n",
              "    <script>\n",
              "      const buttonEl =\n",
              "        document.querySelector('#df-83906797-2a9c-4204-9d29-164706f6a90c button.colab-df-convert');\n",
              "      buttonEl.style.display =\n",
              "        google.colab.kernel.accessAllowed ? 'block' : 'none';\n",
              "\n",
              "      async function convertToInteractive(key) {\n",
              "        const element = document.querySelector('#df-83906797-2a9c-4204-9d29-164706f6a90c');\n",
              "        const dataTable =\n",
              "          await google.colab.kernel.invokeFunction('convertToInteractive',\n",
              "                                                    [key], {});\n",
              "        if (!dataTable) return;\n",
              "\n",
              "        const docLinkHtml = 'Like what you see? Visit the ' +\n",
              "          '<a target=\"_blank\" href=https://colab.research.google.com/notebooks/data_table.ipynb>data table notebook</a>'\n",
              "          + ' to learn more about interactive tables.';\n",
              "        element.innerHTML = '';\n",
              "        dataTable['output_type'] = 'display_data';\n",
              "        await google.colab.output.renderOutput(dataTable, element);\n",
              "        const docLink = document.createElement('div');\n",
              "        docLink.innerHTML = docLinkHtml;\n",
              "        element.appendChild(docLink);\n",
              "      }\n",
              "    </script>\n",
              "  </div>\n",
              "\n",
              "\n",
              "<div id=\"df-9fae0a7c-b6ec-4c17-b219-447d0b4d03de\">\n",
              "  <button class=\"colab-df-quickchart\" onclick=\"quickchart('df-9fae0a7c-b6ec-4c17-b219-447d0b4d03de')\"\n",
              "            title=\"Suggest charts\"\n",
              "            style=\"display:none;\">\n",
              "\n",
              "<svg xmlns=\"http://www.w3.org/2000/svg\" height=\"24px\"viewBox=\"0 0 24 24\"\n",
              "     width=\"24px\">\n",
              "    <g>\n",
              "        <path d=\"M19 3H5c-1.1 0-2 .9-2 2v14c0 1.1.9 2 2 2h14c1.1 0 2-.9 2-2V5c0-1.1-.9-2-2-2zM9 17H7v-7h2v7zm4 0h-2V7h2v10zm4 0h-2v-4h2v4z\"/>\n",
              "    </g>\n",
              "</svg>\n",
              "  </button>\n",
              "\n",
              "<style>\n",
              "  .colab-df-quickchart {\n",
              "      --bg-color: #E8F0FE;\n",
              "      --fill-color: #1967D2;\n",
              "      --hover-bg-color: #E2EBFA;\n",
              "      --hover-fill-color: #174EA6;\n",
              "      --disabled-fill-color: #AAA;\n",
              "      --disabled-bg-color: #DDD;\n",
              "  }\n",
              "\n",
              "  [theme=dark] .colab-df-quickchart {\n",
              "      --bg-color: #3B4455;\n",
              "      --fill-color: #D2E3FC;\n",
              "      --hover-bg-color: #434B5C;\n",
              "      --hover-fill-color: #FFFFFF;\n",
              "      --disabled-bg-color: #3B4455;\n",
              "      --disabled-fill-color: #666;\n",
              "  }\n",
              "\n",
              "  .colab-df-quickchart {\n",
              "    background-color: var(--bg-color);\n",
              "    border: none;\n",
              "    border-radius: 50%;\n",
              "    cursor: pointer;\n",
              "    display: none;\n",
              "    fill: var(--fill-color);\n",
              "    height: 32px;\n",
              "    padding: 0;\n",
              "    width: 32px;\n",
              "  }\n",
              "\n",
              "  .colab-df-quickchart:hover {\n",
              "    background-color: var(--hover-bg-color);\n",
              "    box-shadow: 0 1px 2px rgba(60, 64, 67, 0.3), 0 1px 3px 1px rgba(60, 64, 67, 0.15);\n",
              "    fill: var(--button-hover-fill-color);\n",
              "  }\n",
              "\n",
              "  .colab-df-quickchart-complete:disabled,\n",
              "  .colab-df-quickchart-complete:disabled:hover {\n",
              "    background-color: var(--disabled-bg-color);\n",
              "    fill: var(--disabled-fill-color);\n",
              "    box-shadow: none;\n",
              "  }\n",
              "\n",
              "  .colab-df-spinner {\n",
              "    border: 2px solid var(--fill-color);\n",
              "    border-color: transparent;\n",
              "    border-bottom-color: var(--fill-color);\n",
              "    animation:\n",
              "      spin 1s steps(1) infinite;\n",
              "  }\n",
              "\n",
              "  @keyframes spin {\n",
              "    0% {\n",
              "      border-color: transparent;\n",
              "      border-bottom-color: var(--fill-color);\n",
              "      border-left-color: var(--fill-color);\n",
              "    }\n",
              "    20% {\n",
              "      border-color: transparent;\n",
              "      border-left-color: var(--fill-color);\n",
              "      border-top-color: var(--fill-color);\n",
              "    }\n",
              "    30% {\n",
              "      border-color: transparent;\n",
              "      border-left-color: var(--fill-color);\n",
              "      border-top-color: var(--fill-color);\n",
              "      border-right-color: var(--fill-color);\n",
              "    }\n",
              "    40% {\n",
              "      border-color: transparent;\n",
              "      border-right-color: var(--fill-color);\n",
              "      border-top-color: var(--fill-color);\n",
              "    }\n",
              "    60% {\n",
              "      border-color: transparent;\n",
              "      border-right-color: var(--fill-color);\n",
              "    }\n",
              "    80% {\n",
              "      border-color: transparent;\n",
              "      border-right-color: var(--fill-color);\n",
              "      border-bottom-color: var(--fill-color);\n",
              "    }\n",
              "    90% {\n",
              "      border-color: transparent;\n",
              "      border-bottom-color: var(--fill-color);\n",
              "    }\n",
              "  }\n",
              "</style>\n",
              "\n",
              "  <script>\n",
              "    async function quickchart(key) {\n",
              "      const quickchartButtonEl =\n",
              "        document.querySelector('#' + key + ' button');\n",
              "      quickchartButtonEl.disabled = true;  // To prevent multiple clicks.\n",
              "      quickchartButtonEl.classList.add('colab-df-spinner');\n",
              "      try {\n",
              "        const charts = await google.colab.kernel.invokeFunction(\n",
              "            'suggestCharts', [key], {});\n",
              "      } catch (error) {\n",
              "        console.error('Error during call to suggestCharts:', error);\n",
              "      }\n",
              "      quickchartButtonEl.classList.remove('colab-df-spinner');\n",
              "      quickchartButtonEl.classList.add('colab-df-quickchart-complete');\n",
              "    }\n",
              "    (() => {\n",
              "      let quickchartButtonEl =\n",
              "        document.querySelector('#df-9fae0a7c-b6ec-4c17-b219-447d0b4d03de button');\n",
              "      quickchartButtonEl.style.display =\n",
              "        google.colab.kernel.accessAllowed ? 'block' : 'none';\n",
              "    })();\n",
              "  </script>\n",
              "</div>\n",
              "\n",
              "    </div>\n",
              "  </div>\n"
            ],
            "application/vnd.google.colaboratory.intrinsic+json": {
              "type": "dataframe",
              "summary": "{\n  \"name\": \"item_df\",\n  \"rows\": 69,\n  \"fields\": [\n    {\n      \"column\": \"sub_category\",\n      \"properties\": {\n        \"dtype\": \"string\",\n        \"num_unique_values\": 69,\n        \"samples\": [\n          \"Furnishing\",\n          \"Accessories\",\n          \"Mops, Brushes & Scrubs\"\n        ],\n        \"semantic_type\": \"\",\n        \"description\": \"\"\n      }\n    },\n    {\n      \"column\": \"category\",\n      \"properties\": {\n        \"dtype\": \"number\",\n        \"std\": 2857,\n        \"min\": 1,\n        \"max\": 9592,\n        \"num_unique_values\": 66,\n        \"samples\": [\n          378,\n          67,\n          6577\n        ],\n        \"semantic_type\": \"\",\n        \"description\": \"\"\n      }\n    },\n    {\n      \"column\": \"href\",\n      \"properties\": {\n        \"dtype\": \"number\",\n        \"std\": 2857,\n        \"min\": 1,\n        \"max\": 9592,\n        \"num_unique_values\": 66,\n        \"samples\": [\n          378,\n          67,\n          6577\n        ],\n        \"semantic_type\": \"\",\n        \"description\": \"\"\n      }\n    },\n    {\n      \"column\": \"items\",\n      \"properties\": {\n        \"dtype\": \"number\",\n        \"std\": 2857,\n        \"min\": 1,\n        \"max\": 9592,\n        \"num_unique_values\": 66,\n        \"samples\": [\n          378,\n          67,\n          6577\n        ],\n        \"semantic_type\": \"\",\n        \"description\": \"\"\n      }\n    },\n    {\n      \"column\": \"price\",\n      \"properties\": {\n        \"dtype\": \"number\",\n        \"std\": 2857,\n        \"min\": 1,\n        \"max\": 9592,\n        \"num_unique_values\": 66,\n        \"samples\": [\n          378,\n          67,\n          6577\n        ],\n        \"semantic_type\": \"\",\n        \"description\": \"\"\n      }\n    }\n  ]\n}"
            }
          },
          "metadata": {},
          "execution_count": 11
        }
      ]
    },
    {
      "cell_type": "markdown",
      "source": [
        "**Sub-categories having rows less than 25**\n",
        "\n",
        "These sub-categories may not have sufficient data and may not be enough as training data"
      ],
      "metadata": {
        "id": "DpChpSwFB9qg"
      }
    },
    {
      "cell_type": "code",
      "source": [
        "item_df['sub_category'].value_counts().loc[lambda x: x<25]"
      ],
      "metadata": {
        "execution": {
          "iopub.status.busy": "2024-08-19T13:00:00.750294Z",
          "iopub.execute_input": "2024-08-19T13:00:00.750736Z",
          "iopub.status.idle": "2024-08-19T13:00:00.790417Z",
          "shell.execute_reply.started": "2024-08-19T13:00:00.750701Z",
          "shell.execute_reply": "2024-08-19T13:00:00.788559Z"
        },
        "trusted": true,
        "id": "gnct0JQQB9qg",
        "colab": {
          "base_uri": "https://localhost:8080/",
          "height": 397
        },
        "outputId": "23cb8269-e258-4541-98ca-9ede74b75d1e"
      },
      "execution_count": 12,
      "outputs": [
        {
          "output_type": "execute_result",
          "data": {
            "text/plain": [
              "sub_category\n",
              "Wellness                               23\n",
              "Health Care Devices                    22\n",
              "Handloom & Handicraft                  15\n",
              "Junior Boys                             4\n",
              "Fitness                                 3\n",
              "Building Supplies & Measuring Tools     1\n",
              "Personal Wear                           1\n",
              "Ayush                                   1\n",
              "Treatments                              1\n",
              "Name: count, dtype: int64"
            ],
            "text/html": [
              "<div>\n",
              "<style scoped>\n",
              "    .dataframe tbody tr th:only-of-type {\n",
              "        vertical-align: middle;\n",
              "    }\n",
              "\n",
              "    .dataframe tbody tr th {\n",
              "        vertical-align: top;\n",
              "    }\n",
              "\n",
              "    .dataframe thead th {\n",
              "        text-align: right;\n",
              "    }\n",
              "</style>\n",
              "<table border=\"1\" class=\"dataframe\">\n",
              "  <thead>\n",
              "    <tr style=\"text-align: right;\">\n",
              "      <th></th>\n",
              "      <th>count</th>\n",
              "    </tr>\n",
              "    <tr>\n",
              "      <th>sub_category</th>\n",
              "      <th></th>\n",
              "    </tr>\n",
              "  </thead>\n",
              "  <tbody>\n",
              "    <tr>\n",
              "      <th>Wellness</th>\n",
              "      <td>23</td>\n",
              "    </tr>\n",
              "    <tr>\n",
              "      <th>Health Care Devices</th>\n",
              "      <td>22</td>\n",
              "    </tr>\n",
              "    <tr>\n",
              "      <th>Handloom &amp; Handicraft</th>\n",
              "      <td>15</td>\n",
              "    </tr>\n",
              "    <tr>\n",
              "      <th>Junior Boys</th>\n",
              "      <td>4</td>\n",
              "    </tr>\n",
              "    <tr>\n",
              "      <th>Fitness</th>\n",
              "      <td>3</td>\n",
              "    </tr>\n",
              "    <tr>\n",
              "      <th>Building Supplies &amp; Measuring Tools</th>\n",
              "      <td>1</td>\n",
              "    </tr>\n",
              "    <tr>\n",
              "      <th>Personal Wear</th>\n",
              "      <td>1</td>\n",
              "    </tr>\n",
              "    <tr>\n",
              "      <th>Ayush</th>\n",
              "      <td>1</td>\n",
              "    </tr>\n",
              "    <tr>\n",
              "      <th>Treatments</th>\n",
              "      <td>1</td>\n",
              "    </tr>\n",
              "  </tbody>\n",
              "</table>\n",
              "</div><br><label><b>dtype:</b> int64</label>"
            ]
          },
          "metadata": {},
          "execution_count": 12
        }
      ]
    },
    {
      "cell_type": "code",
      "source": [
        "#item_df.drop(item_df[item_df['category']==\"Jewellery\"].index,inplace=True)"
      ],
      "metadata": {
        "execution": {
          "iopub.status.busy": "2024-01-21T17:22:27.184967Z",
          "iopub.execute_input": "2024-01-21T17:22:27.185476Z",
          "iopub.status.idle": "2024-01-21T17:22:27.218386Z",
          "shell.execute_reply.started": "2024-01-21T17:22:27.185436Z",
          "shell.execute_reply": "2024-01-21T17:22:27.217323Z"
        },
        "trusted": true,
        "id": "l2HtzeYzB9qg"
      },
      "execution_count": 13,
      "outputs": []
    },
    {
      "cell_type": "markdown",
      "source": [
        "href and price do not have relation with categorization. Drop these columns"
      ],
      "metadata": {
        "id": "-tZHYfSRB9qg"
      }
    },
    {
      "cell_type": "code",
      "source": [
        "item_df=item_df.drop(['href','price'],axis=1)"
      ],
      "metadata": {
        "execution": {
          "iopub.status.busy": "2024-08-19T13:00:11.223528Z",
          "iopub.execute_input": "2024-08-19T13:00:11.223994Z",
          "iopub.status.idle": "2024-08-19T13:00:11.242259Z",
          "shell.execute_reply.started": "2024-08-19T13:00:11.223957Z",
          "shell.execute_reply": "2024-08-19T13:00:11.240709Z"
        },
        "trusted": true,
        "id": "VjpeHiy-B9qg"
      },
      "execution_count": 14,
      "outputs": []
    },
    {
      "cell_type": "code",
      "source": [
        "item_df.head()"
      ],
      "metadata": {
        "execution": {
          "iopub.status.busy": "2024-08-19T13:00:14.950936Z",
          "iopub.execute_input": "2024-08-19T13:00:14.951579Z",
          "iopub.status.idle": "2024-08-19T13:00:14.964218Z",
          "shell.execute_reply.started": "2024-08-19T13:00:14.95154Z",
          "shell.execute_reply": "2024-08-19T13:00:14.962947Z"
        },
        "trusted": true,
        "id": "5b0EFpcuB9qh",
        "colab": {
          "base_uri": "https://localhost:8080/",
          "height": 206
        },
        "outputId": "be40bc93-8e16-4463-fd52-d6f019443f9b"
      },
      "execution_count": 15,
      "outputs": [
        {
          "output_type": "execute_result",
          "data": {
            "text/plain": [
              "    category         sub_category  \\\n",
              "0  Groceries  Fruits & Vegetables   \n",
              "1  Groceries  Fruits & Vegetables   \n",
              "2  Groceries  Fruits & Vegetables   \n",
              "3  Groceries  Fruits & Vegetables   \n",
              "4  Groceries  Fruits & Vegetables   \n",
              "\n",
              "                                               items  \n",
              "0          Fresh Dates (Pack) (Approx 450 g - 500 g)  \n",
              "1  Tender Coconut Cling Wrapped (1 pc) (Approx 90...  \n",
              "2                                       Mosambi 1 kg  \n",
              "3                               Orange Imported 1 kg  \n",
              "4  Banana Robusta 6 pcs (Box) (Approx 800 g - 110...  "
            ],
            "text/html": [
              "\n",
              "  <div id=\"df-5032bcd4-8713-4ae1-a490-c0783627de3f\" class=\"colab-df-container\">\n",
              "    <div>\n",
              "<style scoped>\n",
              "    .dataframe tbody tr th:only-of-type {\n",
              "        vertical-align: middle;\n",
              "    }\n",
              "\n",
              "    .dataframe tbody tr th {\n",
              "        vertical-align: top;\n",
              "    }\n",
              "\n",
              "    .dataframe thead th {\n",
              "        text-align: right;\n",
              "    }\n",
              "</style>\n",
              "<table border=\"1\" class=\"dataframe\">\n",
              "  <thead>\n",
              "    <tr style=\"text-align: right;\">\n",
              "      <th></th>\n",
              "      <th>category</th>\n",
              "      <th>sub_category</th>\n",
              "      <th>items</th>\n",
              "    </tr>\n",
              "  </thead>\n",
              "  <tbody>\n",
              "    <tr>\n",
              "      <th>0</th>\n",
              "      <td>Groceries</td>\n",
              "      <td>Fruits &amp; Vegetables</td>\n",
              "      <td>Fresh Dates (Pack) (Approx 450 g - 500 g)</td>\n",
              "    </tr>\n",
              "    <tr>\n",
              "      <th>1</th>\n",
              "      <td>Groceries</td>\n",
              "      <td>Fruits &amp; Vegetables</td>\n",
              "      <td>Tender Coconut Cling Wrapped (1 pc) (Approx 90...</td>\n",
              "    </tr>\n",
              "    <tr>\n",
              "      <th>2</th>\n",
              "      <td>Groceries</td>\n",
              "      <td>Fruits &amp; Vegetables</td>\n",
              "      <td>Mosambi 1 kg</td>\n",
              "    </tr>\n",
              "    <tr>\n",
              "      <th>3</th>\n",
              "      <td>Groceries</td>\n",
              "      <td>Fruits &amp; Vegetables</td>\n",
              "      <td>Orange Imported 1 kg</td>\n",
              "    </tr>\n",
              "    <tr>\n",
              "      <th>4</th>\n",
              "      <td>Groceries</td>\n",
              "      <td>Fruits &amp; Vegetables</td>\n",
              "      <td>Banana Robusta 6 pcs (Box) (Approx 800 g - 110...</td>\n",
              "    </tr>\n",
              "  </tbody>\n",
              "</table>\n",
              "</div>\n",
              "    <div class=\"colab-df-buttons\">\n",
              "\n",
              "  <div class=\"colab-df-container\">\n",
              "    <button class=\"colab-df-convert\" onclick=\"convertToInteractive('df-5032bcd4-8713-4ae1-a490-c0783627de3f')\"\n",
              "            title=\"Convert this dataframe to an interactive table.\"\n",
              "            style=\"display:none;\">\n",
              "\n",
              "  <svg xmlns=\"http://www.w3.org/2000/svg\" height=\"24px\" viewBox=\"0 -960 960 960\">\n",
              "    <path d=\"M120-120v-720h720v720H120Zm60-500h600v-160H180v160Zm220 220h160v-160H400v160Zm0 220h160v-160H400v160ZM180-400h160v-160H180v160Zm440 0h160v-160H620v160ZM180-180h160v-160H180v160Zm440 0h160v-160H620v160Z\"/>\n",
              "  </svg>\n",
              "    </button>\n",
              "\n",
              "  <style>\n",
              "    .colab-df-container {\n",
              "      display:flex;\n",
              "      gap: 12px;\n",
              "    }\n",
              "\n",
              "    .colab-df-convert {\n",
              "      background-color: #E8F0FE;\n",
              "      border: none;\n",
              "      border-radius: 50%;\n",
              "      cursor: pointer;\n",
              "      display: none;\n",
              "      fill: #1967D2;\n",
              "      height: 32px;\n",
              "      padding: 0 0 0 0;\n",
              "      width: 32px;\n",
              "    }\n",
              "\n",
              "    .colab-df-convert:hover {\n",
              "      background-color: #E2EBFA;\n",
              "      box-shadow: 0px 1px 2px rgba(60, 64, 67, 0.3), 0px 1px 3px 1px rgba(60, 64, 67, 0.15);\n",
              "      fill: #174EA6;\n",
              "    }\n",
              "\n",
              "    .colab-df-buttons div {\n",
              "      margin-bottom: 4px;\n",
              "    }\n",
              "\n",
              "    [theme=dark] .colab-df-convert {\n",
              "      background-color: #3B4455;\n",
              "      fill: #D2E3FC;\n",
              "    }\n",
              "\n",
              "    [theme=dark] .colab-df-convert:hover {\n",
              "      background-color: #434B5C;\n",
              "      box-shadow: 0px 1px 3px 1px rgba(0, 0, 0, 0.15);\n",
              "      filter: drop-shadow(0px 1px 2px rgba(0, 0, 0, 0.3));\n",
              "      fill: #FFFFFF;\n",
              "    }\n",
              "  </style>\n",
              "\n",
              "    <script>\n",
              "      const buttonEl =\n",
              "        document.querySelector('#df-5032bcd4-8713-4ae1-a490-c0783627de3f button.colab-df-convert');\n",
              "      buttonEl.style.display =\n",
              "        google.colab.kernel.accessAllowed ? 'block' : 'none';\n",
              "\n",
              "      async function convertToInteractive(key) {\n",
              "        const element = document.querySelector('#df-5032bcd4-8713-4ae1-a490-c0783627de3f');\n",
              "        const dataTable =\n",
              "          await google.colab.kernel.invokeFunction('convertToInteractive',\n",
              "                                                    [key], {});\n",
              "        if (!dataTable) return;\n",
              "\n",
              "        const docLinkHtml = 'Like what you see? Visit the ' +\n",
              "          '<a target=\"_blank\" href=https://colab.research.google.com/notebooks/data_table.ipynb>data table notebook</a>'\n",
              "          + ' to learn more about interactive tables.';\n",
              "        element.innerHTML = '';\n",
              "        dataTable['output_type'] = 'display_data';\n",
              "        await google.colab.output.renderOutput(dataTable, element);\n",
              "        const docLink = document.createElement('div');\n",
              "        docLink.innerHTML = docLinkHtml;\n",
              "        element.appendChild(docLink);\n",
              "      }\n",
              "    </script>\n",
              "  </div>\n",
              "\n",
              "\n",
              "<div id=\"df-9ce43c54-7d49-4386-a06a-1af6dede3e19\">\n",
              "  <button class=\"colab-df-quickchart\" onclick=\"quickchart('df-9ce43c54-7d49-4386-a06a-1af6dede3e19')\"\n",
              "            title=\"Suggest charts\"\n",
              "            style=\"display:none;\">\n",
              "\n",
              "<svg xmlns=\"http://www.w3.org/2000/svg\" height=\"24px\"viewBox=\"0 0 24 24\"\n",
              "     width=\"24px\">\n",
              "    <g>\n",
              "        <path d=\"M19 3H5c-1.1 0-2 .9-2 2v14c0 1.1.9 2 2 2h14c1.1 0 2-.9 2-2V5c0-1.1-.9-2-2-2zM9 17H7v-7h2v7zm4 0h-2V7h2v10zm4 0h-2v-4h2v4z\"/>\n",
              "    </g>\n",
              "</svg>\n",
              "  </button>\n",
              "\n",
              "<style>\n",
              "  .colab-df-quickchart {\n",
              "      --bg-color: #E8F0FE;\n",
              "      --fill-color: #1967D2;\n",
              "      --hover-bg-color: #E2EBFA;\n",
              "      --hover-fill-color: #174EA6;\n",
              "      --disabled-fill-color: #AAA;\n",
              "      --disabled-bg-color: #DDD;\n",
              "  }\n",
              "\n",
              "  [theme=dark] .colab-df-quickchart {\n",
              "      --bg-color: #3B4455;\n",
              "      --fill-color: #D2E3FC;\n",
              "      --hover-bg-color: #434B5C;\n",
              "      --hover-fill-color: #FFFFFF;\n",
              "      --disabled-bg-color: #3B4455;\n",
              "      --disabled-fill-color: #666;\n",
              "  }\n",
              "\n",
              "  .colab-df-quickchart {\n",
              "    background-color: var(--bg-color);\n",
              "    border: none;\n",
              "    border-radius: 50%;\n",
              "    cursor: pointer;\n",
              "    display: none;\n",
              "    fill: var(--fill-color);\n",
              "    height: 32px;\n",
              "    padding: 0;\n",
              "    width: 32px;\n",
              "  }\n",
              "\n",
              "  .colab-df-quickchart:hover {\n",
              "    background-color: var(--hover-bg-color);\n",
              "    box-shadow: 0 1px 2px rgba(60, 64, 67, 0.3), 0 1px 3px 1px rgba(60, 64, 67, 0.15);\n",
              "    fill: var(--button-hover-fill-color);\n",
              "  }\n",
              "\n",
              "  .colab-df-quickchart-complete:disabled,\n",
              "  .colab-df-quickchart-complete:disabled:hover {\n",
              "    background-color: var(--disabled-bg-color);\n",
              "    fill: var(--disabled-fill-color);\n",
              "    box-shadow: none;\n",
              "  }\n",
              "\n",
              "  .colab-df-spinner {\n",
              "    border: 2px solid var(--fill-color);\n",
              "    border-color: transparent;\n",
              "    border-bottom-color: var(--fill-color);\n",
              "    animation:\n",
              "      spin 1s steps(1) infinite;\n",
              "  }\n",
              "\n",
              "  @keyframes spin {\n",
              "    0% {\n",
              "      border-color: transparent;\n",
              "      border-bottom-color: var(--fill-color);\n",
              "      border-left-color: var(--fill-color);\n",
              "    }\n",
              "    20% {\n",
              "      border-color: transparent;\n",
              "      border-left-color: var(--fill-color);\n",
              "      border-top-color: var(--fill-color);\n",
              "    }\n",
              "    30% {\n",
              "      border-color: transparent;\n",
              "      border-left-color: var(--fill-color);\n",
              "      border-top-color: var(--fill-color);\n",
              "      border-right-color: var(--fill-color);\n",
              "    }\n",
              "    40% {\n",
              "      border-color: transparent;\n",
              "      border-right-color: var(--fill-color);\n",
              "      border-top-color: var(--fill-color);\n",
              "    }\n",
              "    60% {\n",
              "      border-color: transparent;\n",
              "      border-right-color: var(--fill-color);\n",
              "    }\n",
              "    80% {\n",
              "      border-color: transparent;\n",
              "      border-right-color: var(--fill-color);\n",
              "      border-bottom-color: var(--fill-color);\n",
              "    }\n",
              "    90% {\n",
              "      border-color: transparent;\n",
              "      border-bottom-color: var(--fill-color);\n",
              "    }\n",
              "  }\n",
              "</style>\n",
              "\n",
              "  <script>\n",
              "    async function quickchart(key) {\n",
              "      const quickchartButtonEl =\n",
              "        document.querySelector('#' + key + ' button');\n",
              "      quickchartButtonEl.disabled = true;  // To prevent multiple clicks.\n",
              "      quickchartButtonEl.classList.add('colab-df-spinner');\n",
              "      try {\n",
              "        const charts = await google.colab.kernel.invokeFunction(\n",
              "            'suggestCharts', [key], {});\n",
              "      } catch (error) {\n",
              "        console.error('Error during call to suggestCharts:', error);\n",
              "      }\n",
              "      quickchartButtonEl.classList.remove('colab-df-spinner');\n",
              "      quickchartButtonEl.classList.add('colab-df-quickchart-complete');\n",
              "    }\n",
              "    (() => {\n",
              "      let quickchartButtonEl =\n",
              "        document.querySelector('#df-9ce43c54-7d49-4386-a06a-1af6dede3e19 button');\n",
              "      quickchartButtonEl.style.display =\n",
              "        google.colab.kernel.accessAllowed ? 'block' : 'none';\n",
              "    })();\n",
              "  </script>\n",
              "</div>\n",
              "\n",
              "    </div>\n",
              "  </div>\n"
            ],
            "application/vnd.google.colaboratory.intrinsic+json": {
              "type": "dataframe",
              "variable_name": "item_df"
            }
          },
          "metadata": {},
          "execution_count": 15
        }
      ]
    },
    {
      "cell_type": "code",
      "source": [
        "print(item_df.head(10)['items'].values)"
      ],
      "metadata": {
        "execution": {
          "iopub.status.busy": "2024-08-19T13:00:22.183044Z",
          "iopub.execute_input": "2024-08-19T13:00:22.183491Z",
          "iopub.status.idle": "2024-08-19T13:00:22.19136Z",
          "shell.execute_reply.started": "2024-08-19T13:00:22.183457Z",
          "shell.execute_reply": "2024-08-19T13:00:22.189847Z"
        },
        "trusted": true,
        "id": "dp9mfx1eB9qh",
        "colab": {
          "base_uri": "https://localhost:8080/"
        },
        "outputId": "e163559c-0017-4bcd-ef7d-a774b9768cf1"
      },
      "execution_count": 16,
      "outputs": [
        {
          "output_type": "stream",
          "name": "stdout",
          "text": [
            "['Fresh Dates (Pack) (Approx 450 g - 500 g)'\n",
            " 'Tender Coconut Cling Wrapped (1 pc) (Approx 900 g - 1300 g)'\n",
            " 'Mosambi 1 kg' 'Orange Imported 1 kg'\n",
            " 'Banana Robusta 6 pcs (Box) (Approx 800 g - 1100 g)'\n",
            " 'Custard Apple 4 pcs (Approx 750 g - 1000 g)'\n",
            " 'Pineapple Queen 1 pc (Approx 700 g - 1200 g)'\n",
            " 'Dates Imported (Approx 400 g - 500 g)'\n",
            " 'Watermelon Kiran Big 1 pc (Approx. 2800 g - 4000 g)'\n",
            " 'Pear Green Indian 6 pcs (Approx 700 g - 1000 g)']\n"
          ]
        }
      ]
    },
    {
      "cell_type": "markdown",
      "source": [
        "# Data Preparation"
      ],
      "metadata": {
        "id": "98az5iicB9qh"
      }
    },
    {
      "cell_type": "markdown",
      "source": [
        "Removing special charaters and converting to lower case"
      ],
      "metadata": {
        "id": "lDPj8rg9B9qh"
      }
    },
    {
      "cell_type": "code",
      "source": [
        "import re\n",
        "item_df['items'] = (item_df['items'].str.replace(r'[^a-zA-Z\\s]',' ',\n",
        "    regex=True )).str.lower()\n",
        "item_df.head()"
      ],
      "metadata": {
        "execution": {
          "iopub.status.busy": "2024-08-19T13:00:53.449682Z",
          "iopub.execute_input": "2024-08-19T13:00:53.450106Z",
          "iopub.status.idle": "2024-08-19T13:00:54.435633Z",
          "shell.execute_reply.started": "2024-08-19T13:00:53.450063Z",
          "shell.execute_reply": "2024-08-19T13:00:54.43427Z"
        },
        "trusted": true,
        "id": "mVIjp6XYB9qi",
        "colab": {
          "base_uri": "https://localhost:8080/",
          "height": 206
        },
        "outputId": "3b94d73d-840f-4b10-f0af-c24967913e65"
      },
      "execution_count": 17,
      "outputs": [
        {
          "output_type": "execute_result",
          "data": {
            "text/plain": [
              "    category         sub_category  \\\n",
              "0  Groceries  Fruits & Vegetables   \n",
              "1  Groceries  Fruits & Vegetables   \n",
              "2  Groceries  Fruits & Vegetables   \n",
              "3  Groceries  Fruits & Vegetables   \n",
              "4  Groceries  Fruits & Vegetables   \n",
              "\n",
              "                                               items  \n",
              "0          fresh dates  pack   approx     g       g   \n",
              "1  tender coconut cling wrapped    pc   approx   ...  \n",
              "2                                       mosambi   kg  \n",
              "3                               orange imported   kg  \n",
              "4  banana robusta   pcs  box   approx     g      ...  "
            ],
            "text/html": [
              "\n",
              "  <div id=\"df-5d63cb17-8857-416f-b776-f8d5a282c23f\" class=\"colab-df-container\">\n",
              "    <div>\n",
              "<style scoped>\n",
              "    .dataframe tbody tr th:only-of-type {\n",
              "        vertical-align: middle;\n",
              "    }\n",
              "\n",
              "    .dataframe tbody tr th {\n",
              "        vertical-align: top;\n",
              "    }\n",
              "\n",
              "    .dataframe thead th {\n",
              "        text-align: right;\n",
              "    }\n",
              "</style>\n",
              "<table border=\"1\" class=\"dataframe\">\n",
              "  <thead>\n",
              "    <tr style=\"text-align: right;\">\n",
              "      <th></th>\n",
              "      <th>category</th>\n",
              "      <th>sub_category</th>\n",
              "      <th>items</th>\n",
              "    </tr>\n",
              "  </thead>\n",
              "  <tbody>\n",
              "    <tr>\n",
              "      <th>0</th>\n",
              "      <td>Groceries</td>\n",
              "      <td>Fruits &amp; Vegetables</td>\n",
              "      <td>fresh dates  pack   approx     g       g</td>\n",
              "    </tr>\n",
              "    <tr>\n",
              "      <th>1</th>\n",
              "      <td>Groceries</td>\n",
              "      <td>Fruits &amp; Vegetables</td>\n",
              "      <td>tender coconut cling wrapped    pc   approx   ...</td>\n",
              "    </tr>\n",
              "    <tr>\n",
              "      <th>2</th>\n",
              "      <td>Groceries</td>\n",
              "      <td>Fruits &amp; Vegetables</td>\n",
              "      <td>mosambi   kg</td>\n",
              "    </tr>\n",
              "    <tr>\n",
              "      <th>3</th>\n",
              "      <td>Groceries</td>\n",
              "      <td>Fruits &amp; Vegetables</td>\n",
              "      <td>orange imported   kg</td>\n",
              "    </tr>\n",
              "    <tr>\n",
              "      <th>4</th>\n",
              "      <td>Groceries</td>\n",
              "      <td>Fruits &amp; Vegetables</td>\n",
              "      <td>banana robusta   pcs  box   approx     g      ...</td>\n",
              "    </tr>\n",
              "  </tbody>\n",
              "</table>\n",
              "</div>\n",
              "    <div class=\"colab-df-buttons\">\n",
              "\n",
              "  <div class=\"colab-df-container\">\n",
              "    <button class=\"colab-df-convert\" onclick=\"convertToInteractive('df-5d63cb17-8857-416f-b776-f8d5a282c23f')\"\n",
              "            title=\"Convert this dataframe to an interactive table.\"\n",
              "            style=\"display:none;\">\n",
              "\n",
              "  <svg xmlns=\"http://www.w3.org/2000/svg\" height=\"24px\" viewBox=\"0 -960 960 960\">\n",
              "    <path d=\"M120-120v-720h720v720H120Zm60-500h600v-160H180v160Zm220 220h160v-160H400v160Zm0 220h160v-160H400v160ZM180-400h160v-160H180v160Zm440 0h160v-160H620v160ZM180-180h160v-160H180v160Zm440 0h160v-160H620v160Z\"/>\n",
              "  </svg>\n",
              "    </button>\n",
              "\n",
              "  <style>\n",
              "    .colab-df-container {\n",
              "      display:flex;\n",
              "      gap: 12px;\n",
              "    }\n",
              "\n",
              "    .colab-df-convert {\n",
              "      background-color: #E8F0FE;\n",
              "      border: none;\n",
              "      border-radius: 50%;\n",
              "      cursor: pointer;\n",
              "      display: none;\n",
              "      fill: #1967D2;\n",
              "      height: 32px;\n",
              "      padding: 0 0 0 0;\n",
              "      width: 32px;\n",
              "    }\n",
              "\n",
              "    .colab-df-convert:hover {\n",
              "      background-color: #E2EBFA;\n",
              "      box-shadow: 0px 1px 2px rgba(60, 64, 67, 0.3), 0px 1px 3px 1px rgba(60, 64, 67, 0.15);\n",
              "      fill: #174EA6;\n",
              "    }\n",
              "\n",
              "    .colab-df-buttons div {\n",
              "      margin-bottom: 4px;\n",
              "    }\n",
              "\n",
              "    [theme=dark] .colab-df-convert {\n",
              "      background-color: #3B4455;\n",
              "      fill: #D2E3FC;\n",
              "    }\n",
              "\n",
              "    [theme=dark] .colab-df-convert:hover {\n",
              "      background-color: #434B5C;\n",
              "      box-shadow: 0px 1px 3px 1px rgba(0, 0, 0, 0.15);\n",
              "      filter: drop-shadow(0px 1px 2px rgba(0, 0, 0, 0.3));\n",
              "      fill: #FFFFFF;\n",
              "    }\n",
              "  </style>\n",
              "\n",
              "    <script>\n",
              "      const buttonEl =\n",
              "        document.querySelector('#df-5d63cb17-8857-416f-b776-f8d5a282c23f button.colab-df-convert');\n",
              "      buttonEl.style.display =\n",
              "        google.colab.kernel.accessAllowed ? 'block' : 'none';\n",
              "\n",
              "      async function convertToInteractive(key) {\n",
              "        const element = document.querySelector('#df-5d63cb17-8857-416f-b776-f8d5a282c23f');\n",
              "        const dataTable =\n",
              "          await google.colab.kernel.invokeFunction('convertToInteractive',\n",
              "                                                    [key], {});\n",
              "        if (!dataTable) return;\n",
              "\n",
              "        const docLinkHtml = 'Like what you see? Visit the ' +\n",
              "          '<a target=\"_blank\" href=https://colab.research.google.com/notebooks/data_table.ipynb>data table notebook</a>'\n",
              "          + ' to learn more about interactive tables.';\n",
              "        element.innerHTML = '';\n",
              "        dataTable['output_type'] = 'display_data';\n",
              "        await google.colab.output.renderOutput(dataTable, element);\n",
              "        const docLink = document.createElement('div');\n",
              "        docLink.innerHTML = docLinkHtml;\n",
              "        element.appendChild(docLink);\n",
              "      }\n",
              "    </script>\n",
              "  </div>\n",
              "\n",
              "\n",
              "<div id=\"df-b97d806e-2a76-4559-90da-f2b77c1cdc81\">\n",
              "  <button class=\"colab-df-quickchart\" onclick=\"quickchart('df-b97d806e-2a76-4559-90da-f2b77c1cdc81')\"\n",
              "            title=\"Suggest charts\"\n",
              "            style=\"display:none;\">\n",
              "\n",
              "<svg xmlns=\"http://www.w3.org/2000/svg\" height=\"24px\"viewBox=\"0 0 24 24\"\n",
              "     width=\"24px\">\n",
              "    <g>\n",
              "        <path d=\"M19 3H5c-1.1 0-2 .9-2 2v14c0 1.1.9 2 2 2h14c1.1 0 2-.9 2-2V5c0-1.1-.9-2-2-2zM9 17H7v-7h2v7zm4 0h-2V7h2v10zm4 0h-2v-4h2v4z\"/>\n",
              "    </g>\n",
              "</svg>\n",
              "  </button>\n",
              "\n",
              "<style>\n",
              "  .colab-df-quickchart {\n",
              "      --bg-color: #E8F0FE;\n",
              "      --fill-color: #1967D2;\n",
              "      --hover-bg-color: #E2EBFA;\n",
              "      --hover-fill-color: #174EA6;\n",
              "      --disabled-fill-color: #AAA;\n",
              "      --disabled-bg-color: #DDD;\n",
              "  }\n",
              "\n",
              "  [theme=dark] .colab-df-quickchart {\n",
              "      --bg-color: #3B4455;\n",
              "      --fill-color: #D2E3FC;\n",
              "      --hover-bg-color: #434B5C;\n",
              "      --hover-fill-color: #FFFFFF;\n",
              "      --disabled-bg-color: #3B4455;\n",
              "      --disabled-fill-color: #666;\n",
              "  }\n",
              "\n",
              "  .colab-df-quickchart {\n",
              "    background-color: var(--bg-color);\n",
              "    border: none;\n",
              "    border-radius: 50%;\n",
              "    cursor: pointer;\n",
              "    display: none;\n",
              "    fill: var(--fill-color);\n",
              "    height: 32px;\n",
              "    padding: 0;\n",
              "    width: 32px;\n",
              "  }\n",
              "\n",
              "  .colab-df-quickchart:hover {\n",
              "    background-color: var(--hover-bg-color);\n",
              "    box-shadow: 0 1px 2px rgba(60, 64, 67, 0.3), 0 1px 3px 1px rgba(60, 64, 67, 0.15);\n",
              "    fill: var(--button-hover-fill-color);\n",
              "  }\n",
              "\n",
              "  .colab-df-quickchart-complete:disabled,\n",
              "  .colab-df-quickchart-complete:disabled:hover {\n",
              "    background-color: var(--disabled-bg-color);\n",
              "    fill: var(--disabled-fill-color);\n",
              "    box-shadow: none;\n",
              "  }\n",
              "\n",
              "  .colab-df-spinner {\n",
              "    border: 2px solid var(--fill-color);\n",
              "    border-color: transparent;\n",
              "    border-bottom-color: var(--fill-color);\n",
              "    animation:\n",
              "      spin 1s steps(1) infinite;\n",
              "  }\n",
              "\n",
              "  @keyframes spin {\n",
              "    0% {\n",
              "      border-color: transparent;\n",
              "      border-bottom-color: var(--fill-color);\n",
              "      border-left-color: var(--fill-color);\n",
              "    }\n",
              "    20% {\n",
              "      border-color: transparent;\n",
              "      border-left-color: var(--fill-color);\n",
              "      border-top-color: var(--fill-color);\n",
              "    }\n",
              "    30% {\n",
              "      border-color: transparent;\n",
              "      border-left-color: var(--fill-color);\n",
              "      border-top-color: var(--fill-color);\n",
              "      border-right-color: var(--fill-color);\n",
              "    }\n",
              "    40% {\n",
              "      border-color: transparent;\n",
              "      border-right-color: var(--fill-color);\n",
              "      border-top-color: var(--fill-color);\n",
              "    }\n",
              "    60% {\n",
              "      border-color: transparent;\n",
              "      border-right-color: var(--fill-color);\n",
              "    }\n",
              "    80% {\n",
              "      border-color: transparent;\n",
              "      border-right-color: var(--fill-color);\n",
              "      border-bottom-color: var(--fill-color);\n",
              "    }\n",
              "    90% {\n",
              "      border-color: transparent;\n",
              "      border-bottom-color: var(--fill-color);\n",
              "    }\n",
              "  }\n",
              "</style>\n",
              "\n",
              "  <script>\n",
              "    async function quickchart(key) {\n",
              "      const quickchartButtonEl =\n",
              "        document.querySelector('#' + key + ' button');\n",
              "      quickchartButtonEl.disabled = true;  // To prevent multiple clicks.\n",
              "      quickchartButtonEl.classList.add('colab-df-spinner');\n",
              "      try {\n",
              "        const charts = await google.colab.kernel.invokeFunction(\n",
              "            'suggestCharts', [key], {});\n",
              "      } catch (error) {\n",
              "        console.error('Error during call to suggestCharts:', error);\n",
              "      }\n",
              "      quickchartButtonEl.classList.remove('colab-df-spinner');\n",
              "      quickchartButtonEl.classList.add('colab-df-quickchart-complete');\n",
              "    }\n",
              "    (() => {\n",
              "      let quickchartButtonEl =\n",
              "        document.querySelector('#df-b97d806e-2a76-4559-90da-f2b77c1cdc81 button');\n",
              "      quickchartButtonEl.style.display =\n",
              "        google.colab.kernel.accessAllowed ? 'block' : 'none';\n",
              "    })();\n",
              "  </script>\n",
              "</div>\n",
              "\n",
              "    </div>\n",
              "  </div>\n"
            ],
            "application/vnd.google.colaboratory.intrinsic+json": {
              "type": "dataframe",
              "variable_name": "item_df"
            }
          },
          "metadata": {},
          "execution_count": 17
        }
      ]
    },
    {
      "cell_type": "code",
      "source": [
        "print(item_df.head(10)['items'].values)"
      ],
      "metadata": {
        "execution": {
          "iopub.status.busy": "2024-08-19T13:00:58.220706Z",
          "iopub.execute_input": "2024-08-19T13:00:58.221177Z",
          "iopub.status.idle": "2024-08-19T13:00:58.227573Z",
          "shell.execute_reply.started": "2024-08-19T13:00:58.22113Z",
          "shell.execute_reply": "2024-08-19T13:00:58.226317Z"
        },
        "trusted": true,
        "id": "FgnnOynLB9qi",
        "colab": {
          "base_uri": "https://localhost:8080/"
        },
        "outputId": "9f3ce416-d50a-473f-dee7-8d1fe9c0291a"
      },
      "execution_count": 18,
      "outputs": [
        {
          "output_type": "stream",
          "name": "stdout",
          "text": [
            "['fresh dates  pack   approx     g       g '\n",
            " 'tender coconut cling wrapped    pc   approx     g        g '\n",
            " 'mosambi   kg' 'orange imported   kg'\n",
            " 'banana robusta   pcs  box   approx     g        g '\n",
            " 'custard apple   pcs  approx     g        g '\n",
            " 'pineapple queen   pc  approx     g        g '\n",
            " 'dates imported  approx     g       g '\n",
            " 'watermelon kiran big   pc  approx       g        g '\n",
            " 'pear green indian   pcs  approx     g        g ']\n"
          ]
        }
      ]
    },
    {
      "cell_type": "markdown",
      "source": [
        "Function to remove whitespaces"
      ],
      "metadata": {
        "id": "i9yOFEweB9qi"
      }
    },
    {
      "cell_type": "code",
      "source": [
        "def remove_whitespace(text):\n",
        "    return \" \".join(text.split())\n",
        "\n",
        "text = \"   This    is a    string   \"\n",
        "print(\"Input: {}\".format(text))\n",
        "print(\"Output: {}\".format(remove_whitespace(text)))"
      ],
      "metadata": {
        "execution": {
          "iopub.status.busy": "2024-08-19T13:01:01.299104Z",
          "iopub.execute_input": "2024-08-19T13:01:01.299553Z",
          "iopub.status.idle": "2024-08-19T13:01:01.306621Z",
          "shell.execute_reply.started": "2024-08-19T13:01:01.29952Z",
          "shell.execute_reply": "2024-08-19T13:01:01.305474Z"
        },
        "trusted": true,
        "id": "HbXfA5-sB9qi",
        "colab": {
          "base_uri": "https://localhost:8080/"
        },
        "outputId": "ae093bd9-5865-447f-81a6-56eccdfe2925"
      },
      "execution_count": 19,
      "outputs": [
        {
          "output_type": "stream",
          "name": "stdout",
          "text": [
            "Input:    This    is a    string   \n",
            "Output: This is a string\n"
          ]
        }
      ]
    },
    {
      "cell_type": "markdown",
      "source": [
        "Select 25,000 rows"
      ],
      "metadata": {
        "id": "sXgON9D4B9qi"
      }
    },
    {
      "cell_type": "code",
      "source": [
        "item_df=item_df.sample(25000)"
      ],
      "metadata": {
        "execution": {
          "iopub.status.busy": "2024-08-19T13:01:07.128212Z",
          "iopub.execute_input": "2024-08-19T13:01:07.128661Z",
          "iopub.status.idle": "2024-08-19T13:01:07.159936Z",
          "shell.execute_reply.started": "2024-08-19T13:01:07.128623Z",
          "shell.execute_reply": "2024-08-19T13:01:07.1577Z"
        },
        "trusted": true,
        "id": "Jq7G5_pXB9qi"
      },
      "execution_count": 20,
      "outputs": []
    },
    {
      "cell_type": "code",
      "source": [
        "item_df['items']=item_df['items'].apply(remove_whitespace)"
      ],
      "metadata": {
        "execution": {
          "iopub.status.busy": "2024-08-19T13:01:11.076278Z",
          "iopub.execute_input": "2024-08-19T13:01:11.076711Z",
          "iopub.status.idle": "2024-08-19T13:01:11.16635Z",
          "shell.execute_reply.started": "2024-08-19T13:01:11.076673Z",
          "shell.execute_reply": "2024-08-19T13:01:11.165091Z"
        },
        "trusted": true,
        "id": "BLeAAQTiB9qi"
      },
      "execution_count": 21,
      "outputs": []
    },
    {
      "cell_type": "code",
      "source": [
        "#print(item_df.head(10)['items'].values)\n",
        "item_df.head()"
      ],
      "metadata": {
        "execution": {
          "iopub.status.busy": "2024-08-19T14:12:50.819407Z",
          "iopub.execute_input": "2024-08-19T14:12:50.819931Z",
          "iopub.status.idle": "2024-08-19T14:12:50.835072Z",
          "shell.execute_reply.started": "2024-08-19T14:12:50.819884Z",
          "shell.execute_reply": "2024-08-19T14:12:50.833646Z"
        },
        "trusted": true,
        "id": "uOZmm1soB9qj",
        "colab": {
          "base_uri": "https://localhost:8080/",
          "height": 206
        },
        "outputId": "5e5714e1-a902-445c-d803-8839c13ea0fe"
      },
      "execution_count": 22,
      "outputs": [
        {
          "output_type": "execute_result",
          "data": {
            "text/plain": [
              "              category            sub_category  \\\n",
              "98321   Home & Kitchen               Auto Care   \n",
              "43413        Groceries                   Books   \n",
              "95195   Home & Kitchen  Mops, Brushes & Scrubs   \n",
              "161293          Beauty           Personal Care   \n",
              "41118        Groceries                   Books   \n",
              "\n",
              "                                                    items  \n",
              "98321   carmate car steering cover finger grip for mar...  \n",
              "43413   tantropathy mudras postures and mantras for he...  \n",
              "95195   shop by room grey color extra large wet and dr...  \n",
              "161293  detoxie anti pollution de tan refreshing face ...  \n",
              "41118   riverside recipes collection of choice tested ...  "
            ],
            "text/html": [
              "\n",
              "  <div id=\"df-e5ef97aa-069b-479e-b20f-c0b364ea6b34\" class=\"colab-df-container\">\n",
              "    <div>\n",
              "<style scoped>\n",
              "    .dataframe tbody tr th:only-of-type {\n",
              "        vertical-align: middle;\n",
              "    }\n",
              "\n",
              "    .dataframe tbody tr th {\n",
              "        vertical-align: top;\n",
              "    }\n",
              "\n",
              "    .dataframe thead th {\n",
              "        text-align: right;\n",
              "    }\n",
              "</style>\n",
              "<table border=\"1\" class=\"dataframe\">\n",
              "  <thead>\n",
              "    <tr style=\"text-align: right;\">\n",
              "      <th></th>\n",
              "      <th>category</th>\n",
              "      <th>sub_category</th>\n",
              "      <th>items</th>\n",
              "    </tr>\n",
              "  </thead>\n",
              "  <tbody>\n",
              "    <tr>\n",
              "      <th>98321</th>\n",
              "      <td>Home &amp; Kitchen</td>\n",
              "      <td>Auto Care</td>\n",
              "      <td>carmate car steering cover finger grip for mar...</td>\n",
              "    </tr>\n",
              "    <tr>\n",
              "      <th>43413</th>\n",
              "      <td>Groceries</td>\n",
              "      <td>Books</td>\n",
              "      <td>tantropathy mudras postures and mantras for he...</td>\n",
              "    </tr>\n",
              "    <tr>\n",
              "      <th>95195</th>\n",
              "      <td>Home &amp; Kitchen</td>\n",
              "      <td>Mops, Brushes &amp; Scrubs</td>\n",
              "      <td>shop by room grey color extra large wet and dr...</td>\n",
              "    </tr>\n",
              "    <tr>\n",
              "      <th>161293</th>\n",
              "      <td>Beauty</td>\n",
              "      <td>Personal Care</td>\n",
              "      <td>detoxie anti pollution de tan refreshing face ...</td>\n",
              "    </tr>\n",
              "    <tr>\n",
              "      <th>41118</th>\n",
              "      <td>Groceries</td>\n",
              "      <td>Books</td>\n",
              "      <td>riverside recipes collection of choice tested ...</td>\n",
              "    </tr>\n",
              "  </tbody>\n",
              "</table>\n",
              "</div>\n",
              "    <div class=\"colab-df-buttons\">\n",
              "\n",
              "  <div class=\"colab-df-container\">\n",
              "    <button class=\"colab-df-convert\" onclick=\"convertToInteractive('df-e5ef97aa-069b-479e-b20f-c0b364ea6b34')\"\n",
              "            title=\"Convert this dataframe to an interactive table.\"\n",
              "            style=\"display:none;\">\n",
              "\n",
              "  <svg xmlns=\"http://www.w3.org/2000/svg\" height=\"24px\" viewBox=\"0 -960 960 960\">\n",
              "    <path d=\"M120-120v-720h720v720H120Zm60-500h600v-160H180v160Zm220 220h160v-160H400v160Zm0 220h160v-160H400v160ZM180-400h160v-160H180v160Zm440 0h160v-160H620v160ZM180-180h160v-160H180v160Zm440 0h160v-160H620v160Z\"/>\n",
              "  </svg>\n",
              "    </button>\n",
              "\n",
              "  <style>\n",
              "    .colab-df-container {\n",
              "      display:flex;\n",
              "      gap: 12px;\n",
              "    }\n",
              "\n",
              "    .colab-df-convert {\n",
              "      background-color: #E8F0FE;\n",
              "      border: none;\n",
              "      border-radius: 50%;\n",
              "      cursor: pointer;\n",
              "      display: none;\n",
              "      fill: #1967D2;\n",
              "      height: 32px;\n",
              "      padding: 0 0 0 0;\n",
              "      width: 32px;\n",
              "    }\n",
              "\n",
              "    .colab-df-convert:hover {\n",
              "      background-color: #E2EBFA;\n",
              "      box-shadow: 0px 1px 2px rgba(60, 64, 67, 0.3), 0px 1px 3px 1px rgba(60, 64, 67, 0.15);\n",
              "      fill: #174EA6;\n",
              "    }\n",
              "\n",
              "    .colab-df-buttons div {\n",
              "      margin-bottom: 4px;\n",
              "    }\n",
              "\n",
              "    [theme=dark] .colab-df-convert {\n",
              "      background-color: #3B4455;\n",
              "      fill: #D2E3FC;\n",
              "    }\n",
              "\n",
              "    [theme=dark] .colab-df-convert:hover {\n",
              "      background-color: #434B5C;\n",
              "      box-shadow: 0px 1px 3px 1px rgba(0, 0, 0, 0.15);\n",
              "      filter: drop-shadow(0px 1px 2px rgba(0, 0, 0, 0.3));\n",
              "      fill: #FFFFFF;\n",
              "    }\n",
              "  </style>\n",
              "\n",
              "    <script>\n",
              "      const buttonEl =\n",
              "        document.querySelector('#df-e5ef97aa-069b-479e-b20f-c0b364ea6b34 button.colab-df-convert');\n",
              "      buttonEl.style.display =\n",
              "        google.colab.kernel.accessAllowed ? 'block' : 'none';\n",
              "\n",
              "      async function convertToInteractive(key) {\n",
              "        const element = document.querySelector('#df-e5ef97aa-069b-479e-b20f-c0b364ea6b34');\n",
              "        const dataTable =\n",
              "          await google.colab.kernel.invokeFunction('convertToInteractive',\n",
              "                                                    [key], {});\n",
              "        if (!dataTable) return;\n",
              "\n",
              "        const docLinkHtml = 'Like what you see? Visit the ' +\n",
              "          '<a target=\"_blank\" href=https://colab.research.google.com/notebooks/data_table.ipynb>data table notebook</a>'\n",
              "          + ' to learn more about interactive tables.';\n",
              "        element.innerHTML = '';\n",
              "        dataTable['output_type'] = 'display_data';\n",
              "        await google.colab.output.renderOutput(dataTable, element);\n",
              "        const docLink = document.createElement('div');\n",
              "        docLink.innerHTML = docLinkHtml;\n",
              "        element.appendChild(docLink);\n",
              "      }\n",
              "    </script>\n",
              "  </div>\n",
              "\n",
              "\n",
              "<div id=\"df-b41f2bf5-0d8a-4928-acd1-faa105582b9a\">\n",
              "  <button class=\"colab-df-quickchart\" onclick=\"quickchart('df-b41f2bf5-0d8a-4928-acd1-faa105582b9a')\"\n",
              "            title=\"Suggest charts\"\n",
              "            style=\"display:none;\">\n",
              "\n",
              "<svg xmlns=\"http://www.w3.org/2000/svg\" height=\"24px\"viewBox=\"0 0 24 24\"\n",
              "     width=\"24px\">\n",
              "    <g>\n",
              "        <path d=\"M19 3H5c-1.1 0-2 .9-2 2v14c0 1.1.9 2 2 2h14c1.1 0 2-.9 2-2V5c0-1.1-.9-2-2-2zM9 17H7v-7h2v7zm4 0h-2V7h2v10zm4 0h-2v-4h2v4z\"/>\n",
              "    </g>\n",
              "</svg>\n",
              "  </button>\n",
              "\n",
              "<style>\n",
              "  .colab-df-quickchart {\n",
              "      --bg-color: #E8F0FE;\n",
              "      --fill-color: #1967D2;\n",
              "      --hover-bg-color: #E2EBFA;\n",
              "      --hover-fill-color: #174EA6;\n",
              "      --disabled-fill-color: #AAA;\n",
              "      --disabled-bg-color: #DDD;\n",
              "  }\n",
              "\n",
              "  [theme=dark] .colab-df-quickchart {\n",
              "      --bg-color: #3B4455;\n",
              "      --fill-color: #D2E3FC;\n",
              "      --hover-bg-color: #434B5C;\n",
              "      --hover-fill-color: #FFFFFF;\n",
              "      --disabled-bg-color: #3B4455;\n",
              "      --disabled-fill-color: #666;\n",
              "  }\n",
              "\n",
              "  .colab-df-quickchart {\n",
              "    background-color: var(--bg-color);\n",
              "    border: none;\n",
              "    border-radius: 50%;\n",
              "    cursor: pointer;\n",
              "    display: none;\n",
              "    fill: var(--fill-color);\n",
              "    height: 32px;\n",
              "    padding: 0;\n",
              "    width: 32px;\n",
              "  }\n",
              "\n",
              "  .colab-df-quickchart:hover {\n",
              "    background-color: var(--hover-bg-color);\n",
              "    box-shadow: 0 1px 2px rgba(60, 64, 67, 0.3), 0 1px 3px 1px rgba(60, 64, 67, 0.15);\n",
              "    fill: var(--button-hover-fill-color);\n",
              "  }\n",
              "\n",
              "  .colab-df-quickchart-complete:disabled,\n",
              "  .colab-df-quickchart-complete:disabled:hover {\n",
              "    background-color: var(--disabled-bg-color);\n",
              "    fill: var(--disabled-fill-color);\n",
              "    box-shadow: none;\n",
              "  }\n",
              "\n",
              "  .colab-df-spinner {\n",
              "    border: 2px solid var(--fill-color);\n",
              "    border-color: transparent;\n",
              "    border-bottom-color: var(--fill-color);\n",
              "    animation:\n",
              "      spin 1s steps(1) infinite;\n",
              "  }\n",
              "\n",
              "  @keyframes spin {\n",
              "    0% {\n",
              "      border-color: transparent;\n",
              "      border-bottom-color: var(--fill-color);\n",
              "      border-left-color: var(--fill-color);\n",
              "    }\n",
              "    20% {\n",
              "      border-color: transparent;\n",
              "      border-left-color: var(--fill-color);\n",
              "      border-top-color: var(--fill-color);\n",
              "    }\n",
              "    30% {\n",
              "      border-color: transparent;\n",
              "      border-left-color: var(--fill-color);\n",
              "      border-top-color: var(--fill-color);\n",
              "      border-right-color: var(--fill-color);\n",
              "    }\n",
              "    40% {\n",
              "      border-color: transparent;\n",
              "      border-right-color: var(--fill-color);\n",
              "      border-top-color: var(--fill-color);\n",
              "    }\n",
              "    60% {\n",
              "      border-color: transparent;\n",
              "      border-right-color: var(--fill-color);\n",
              "    }\n",
              "    80% {\n",
              "      border-color: transparent;\n",
              "      border-right-color: var(--fill-color);\n",
              "      border-bottom-color: var(--fill-color);\n",
              "    }\n",
              "    90% {\n",
              "      border-color: transparent;\n",
              "      border-bottom-color: var(--fill-color);\n",
              "    }\n",
              "  }\n",
              "</style>\n",
              "\n",
              "  <script>\n",
              "    async function quickchart(key) {\n",
              "      const quickchartButtonEl =\n",
              "        document.querySelector('#' + key + ' button');\n",
              "      quickchartButtonEl.disabled = true;  // To prevent multiple clicks.\n",
              "      quickchartButtonEl.classList.add('colab-df-spinner');\n",
              "      try {\n",
              "        const charts = await google.colab.kernel.invokeFunction(\n",
              "            'suggestCharts', [key], {});\n",
              "      } catch (error) {\n",
              "        console.error('Error during call to suggestCharts:', error);\n",
              "      }\n",
              "      quickchartButtonEl.classList.remove('colab-df-spinner');\n",
              "      quickchartButtonEl.classList.add('colab-df-quickchart-complete');\n",
              "    }\n",
              "    (() => {\n",
              "      let quickchartButtonEl =\n",
              "        document.querySelector('#df-b41f2bf5-0d8a-4928-acd1-faa105582b9a button');\n",
              "      quickchartButtonEl.style.display =\n",
              "        google.colab.kernel.accessAllowed ? 'block' : 'none';\n",
              "    })();\n",
              "  </script>\n",
              "</div>\n",
              "\n",
              "    </div>\n",
              "  </div>\n"
            ],
            "application/vnd.google.colaboratory.intrinsic+json": {
              "type": "dataframe",
              "variable_name": "item_df",
              "summary": "{\n  \"name\": \"item_df\",\n  \"rows\": 25000,\n  \"fields\": [\n    {\n      \"column\": \"category\",\n      \"properties\": {\n        \"dtype\": \"category\",\n        \"num_unique_values\": 6,\n        \"samples\": [\n          \"Home & Kitchen\",\n          \"Groceries\",\n          \"Jewellery\"\n        ],\n        \"semantic_type\": \"\",\n        \"description\": \"\"\n      }\n    },\n    {\n      \"column\": \"sub_category\",\n      \"properties\": {\n        \"dtype\": \"category\",\n        \"num_unique_values\": 64,\n        \"samples\": [\n          \"Paint, Wall Treatments & Supplies\",\n          \"Hardware & Plumbing\",\n          \"Auto Care\"\n        ],\n        \"semantic_type\": \"\",\n        \"description\": \"\"\n      }\n    },\n    {\n      \"column\": \"items\",\n      \"properties\": {\n        \"dtype\": \"string\",\n        \"num_unique_values\": 21444,\n        \"samples\": [\n          \"dreamkraft green vinyl galaxy of stars with moon radium night wall stickers x cm\",\n          \"inbase mah power bank ib\",\n          \"nillkin tempered glass for one plus t oneplus t\"\n        ],\n        \"semantic_type\": \"\",\n        \"description\": \"\"\n      }\n    }\n  ]\n}"
            }
          },
          "metadata": {},
          "execution_count": 22
        }
      ]
    },
    {
      "cell_type": "markdown",
      "source": [
        "# Vectorize Items"
      ],
      "metadata": {
        "id": "8N2jI0gLB9qj"
      }
    },
    {
      "cell_type": "code",
      "source": [
        "count_vec = CountVectorizer()\n",
        "item_desc = count_vec.fit_transform(item_df['items'])\n",
        "item_desc = np.array(item_desc.todense())\n",
        "item_desc.shape[1]"
      ],
      "metadata": {
        "execution": {
          "iopub.status.busy": "2024-08-19T13:01:22.761671Z",
          "iopub.execute_input": "2024-08-19T13:01:22.762133Z",
          "iopub.status.idle": "2024-08-19T13:01:29.3709Z",
          "shell.execute_reply.started": "2024-08-19T13:01:22.762077Z",
          "shell.execute_reply": "2024-08-19T13:01:29.36954Z"
        },
        "trusted": true,
        "id": "n2h8RUSYB9qj",
        "colab": {
          "base_uri": "https://localhost:8080/"
        },
        "outputId": "013891c4-9c53-46fa-c88b-b8971e27711d"
      },
      "execution_count": 23,
      "outputs": [
        {
          "output_type": "execute_result",
          "data": {
            "text/plain": [
              "15668"
            ]
          },
          "metadata": {},
          "execution_count": 23
        }
      ]
    },
    {
      "cell_type": "code",
      "source": [
        "X = item_desc\n",
        "y1 = item_df['category']\n",
        "y2 = item_df['sub_category']"
      ],
      "metadata": {
        "execution": {
          "iopub.status.busy": "2024-08-19T13:01:58.32642Z",
          "iopub.execute_input": "2024-08-19T13:01:58.327394Z",
          "iopub.status.idle": "2024-08-19T13:01:58.332959Z",
          "shell.execute_reply.started": "2024-08-19T13:01:58.327351Z",
          "shell.execute_reply": "2024-08-19T13:01:58.331491Z"
        },
        "trusted": true,
        "id": "0gHaU7W3B9qj"
      },
      "execution_count": 24,
      "outputs": []
    },
    {
      "cell_type": "markdown",
      "source": [
        "# Label Encoding"
      ],
      "metadata": {
        "id": "Snue-hMqB9qp"
      }
    },
    {
      "cell_type": "code",
      "source": [
        "from sklearn.preprocessing import LabelEncoder"
      ],
      "metadata": {
        "execution": {
          "iopub.status.busy": "2024-08-19T13:02:05.76501Z",
          "iopub.execute_input": "2024-08-19T13:02:05.76556Z",
          "iopub.status.idle": "2024-08-19T13:02:05.771556Z",
          "shell.execute_reply.started": "2024-08-19T13:02:05.765516Z",
          "shell.execute_reply": "2024-08-19T13:02:05.76995Z"
        },
        "trusted": true,
        "id": "xRZL5sRkB9qq"
      },
      "execution_count": 25,
      "outputs": []
    },
    {
      "cell_type": "code",
      "source": [
        "LE1 = LabelEncoder()\n",
        "LE2 = LabelEncoder()\n",
        "y1_enc = LE1.fit_transform(y1.values)\n",
        "y2_enc = LE2.fit_transform(y2.values)"
      ],
      "metadata": {
        "execution": {
          "iopub.status.busy": "2024-08-19T13:02:16.343128Z",
          "iopub.execute_input": "2024-08-19T13:02:16.343575Z",
          "iopub.status.idle": "2024-08-19T13:02:16.377575Z",
          "shell.execute_reply.started": "2024-08-19T13:02:16.343539Z",
          "shell.execute_reply": "2024-08-19T13:02:16.375793Z"
        },
        "trusted": true,
        "id": "E5MzuOuWB9qq"
      },
      "execution_count": 26,
      "outputs": []
    },
    {
      "cell_type": "code",
      "source": [
        "cat_label_mapping = {label: encoded for label, encoded in zip(LE1.classes_, LE1.transform(LE1.classes_))}\n",
        "cat_label_mapping"
      ],
      "metadata": {
        "execution": {
          "iopub.status.busy": "2024-08-19T13:02:22.751184Z",
          "iopub.execute_input": "2024-08-19T13:02:22.751634Z",
          "iopub.status.idle": "2024-08-19T13:02:22.761698Z",
          "shell.execute_reply.started": "2024-08-19T13:02:22.751598Z",
          "shell.execute_reply": "2024-08-19T13:02:22.760385Z"
        },
        "trusted": true,
        "id": "O_CIUN4xB9qq",
        "colab": {
          "base_uri": "https://localhost:8080/"
        },
        "outputId": "0b2fca51-5b06-4ecb-831e-1161c68076ec"
      },
      "execution_count": 27,
      "outputs": [
        {
          "output_type": "execute_result",
          "data": {
            "text/plain": [
              "{'Beauty': 0,\n",
              " 'Electronics': 1,\n",
              " 'Fashion': 2,\n",
              " 'Groceries': 3,\n",
              " 'Home & Kitchen': 4,\n",
              " 'Jewellery': 5}"
            ]
          },
          "metadata": {},
          "execution_count": 27
        }
      ]
    },
    {
      "cell_type": "code",
      "source": [
        "subcat_label_mapping = {label: encoded for label, encoded in zip(LE2.classes_, LE2.transform(LE2.classes_))}\n",
        "subcat_label_mapping"
      ],
      "metadata": {
        "execution": {
          "iopub.status.busy": "2024-08-19T13:02:41.047338Z",
          "iopub.execute_input": "2024-08-19T13:02:41.047762Z",
          "iopub.status.idle": "2024-08-19T13:02:41.061253Z",
          "shell.execute_reply.started": "2024-08-19T13:02:41.047718Z",
          "shell.execute_reply": "2024-08-19T13:02:41.059954Z"
        },
        "trusted": true,
        "id": "KHKLb3NXB9qq",
        "colab": {
          "base_uri": "https://localhost:8080/"
        },
        "outputId": "647bc197-1765-4b64-82a3-088fc77d7b9a"
      },
      "execution_count": 28,
      "outputs": [
        {
          "output_type": "execute_result",
          "data": {
            "text/plain": [
              "{'Accessories': 0,\n",
              " 'Apparel': 1,\n",
              " 'Auto Care': 2,\n",
              " 'Bags & Travel Luggage': 3,\n",
              " 'Bathroom & Laundry': 4,\n",
              " 'Bathroom & Laundry Accessories': 5,\n",
              " 'Beverages': 6,\n",
              " 'Books': 7,\n",
              " 'Boys': 8,\n",
              " 'Cameras': 9,\n",
              " 'Carpentry & work accessories': 10,\n",
              " 'Computers': 11,\n",
              " 'Dairy & Bakery': 12,\n",
              " 'Dining': 13,\n",
              " 'Disposables': 14,\n",
              " 'Electrical': 15,\n",
              " 'Fine Jewellery': 16,\n",
              " 'Fragrances': 17,\n",
              " 'Fruits & Vegetables': 18,\n",
              " 'Furnishing': 19,\n",
              " 'Furniture': 20,\n",
              " 'Gaming': 21,\n",
              " 'Garden & Outdoor': 22,\n",
              " 'Girls': 23,\n",
              " 'Hair': 24,\n",
              " 'Handloom & Handicraft': 25,\n",
              " 'Hardware & Plumbing': 26,\n",
              " 'Health Care Devices': 27,\n",
              " 'Home Appliances': 28,\n",
              " 'Home Care': 29,\n",
              " 'Home Decor': 30,\n",
              " 'Home Safety & Automation': 31,\n",
              " 'Industrial & Scientific Supplies': 32,\n",
              " 'Infants': 33,\n",
              " 'Junior Boys': 34,\n",
              " 'Kitchen & Bath Fixtures': 35,\n",
              " 'Kitchen Appliances': 36,\n",
              " 'Kitchenware': 37,\n",
              " 'Make-Up': 38,\n",
              " 'Men': 39,\n",
              " \"Men's Grooming\": 40,\n",
              " 'Mobiles & Tablets': 41,\n",
              " 'Mom & Baby': 42,\n",
              " 'Mom & Baby Care': 43,\n",
              " 'Mops, Brushes & Scrubs': 44,\n",
              " 'Office Products': 45,\n",
              " 'Paint, Wall Treatments & Supplies': 46,\n",
              " 'Personal Care': 47,\n",
              " 'Personal Care & Grooming': 48,\n",
              " 'Pets': 49,\n",
              " 'Phones': 50,\n",
              " 'Pooja Needs': 51,\n",
              " 'Power & Hand Tools': 52,\n",
              " 'Premium Fruits': 53,\n",
              " 'Skin Care': 54,\n",
              " 'Smart Devices': 55,\n",
              " 'Snacks & Branded Foods': 56,\n",
              " 'Staples': 57,\n",
              " 'Stationery': 58,\n",
              " 'TV & Speaker': 59,\n",
              " 'Tools & Appliances': 60,\n",
              " 'Toys, Games & Fitness': 61,\n",
              " 'Wellness': 62,\n",
              " 'Women': 63}"
            ]
          },
          "metadata": {},
          "execution_count": 28
        }
      ]
    },
    {
      "cell_type": "markdown",
      "source": [
        "# Split into training and test data"
      ],
      "metadata": {
        "id": "GuU6evYjB9qr"
      }
    },
    {
      "cell_type": "code",
      "source": [
        "X_train, X_test, y1_train, y1_test, y2_train, y2_test = train_test_split(X, y1_enc,y2_enc, test_size=0.3,random_state=42)"
      ],
      "metadata": {
        "execution": {
          "iopub.status.busy": "2024-08-19T13:02:56.765573Z",
          "iopub.execute_input": "2024-08-19T13:02:56.766001Z",
          "iopub.status.idle": "2024-08-19T13:02:59.091766Z",
          "shell.execute_reply.started": "2024-08-19T13:02:56.765965Z",
          "shell.execute_reply": "2024-08-19T13:02:59.090599Z"
        },
        "trusted": true,
        "id": "Kyr5XiU1B9qr"
      },
      "execution_count": 29,
      "outputs": []
    },
    {
      "cell_type": "markdown",
      "source": [
        "# Multinomial Naive Bayes classifier"
      ],
      "metadata": {
        "id": "Ig9WMkcnB9qr"
      }
    },
    {
      "cell_type": "code",
      "source": [
        "cat_model = MultinomialNB().fit(X_train, y1_train)"
      ],
      "metadata": {
        "execution": {
          "iopub.status.busy": "2024-08-19T13:03:14.883451Z",
          "iopub.execute_input": "2024-08-19T13:03:14.884043Z",
          "iopub.status.idle": "2024-08-19T13:03:35.649711Z",
          "shell.execute_reply.started": "2024-08-19T13:03:14.883983Z",
          "shell.execute_reply": "2024-08-19T13:03:35.648202Z"
        },
        "trusted": true,
        "id": "b63fs42-B9qr"
      },
      "execution_count": 30,
      "outputs": []
    },
    {
      "cell_type": "code",
      "source": [
        "subcat_model = MultinomialNB().fit(X_train, y2_train)"
      ],
      "metadata": {
        "execution": {
          "iopub.status.busy": "2024-08-19T13:03:41.257177Z",
          "iopub.execute_input": "2024-08-19T13:03:41.258278Z",
          "iopub.status.idle": "2024-08-19T13:07:50.592727Z",
          "shell.execute_reply.started": "2024-08-19T13:03:41.258236Z",
          "shell.execute_reply": "2024-08-19T13:07:50.591459Z"
        },
        "trusted": true,
        "id": "2XrDtP0WB9qr"
      },
      "execution_count": 31,
      "outputs": []
    },
    {
      "cell_type": "code",
      "source": [
        "cat_pred = cat_model.predict(X_test)\n",
        "accuracy_score(y1_test, cat_pred)"
      ],
      "metadata": {
        "execution": {
          "iopub.status.busy": "2024-08-19T13:08:39.010631Z",
          "iopub.execute_input": "2024-08-19T13:08:39.011058Z",
          "iopub.status.idle": "2024-08-19T13:08:40.226498Z",
          "shell.execute_reply.started": "2024-08-19T13:08:39.011024Z",
          "shell.execute_reply": "2024-08-19T13:08:40.225294Z"
        },
        "trusted": true,
        "id": "qXrdV1miB9qs",
        "colab": {
          "base_uri": "https://localhost:8080/"
        },
        "outputId": "bfd5c1c8-ee82-4a73-ecb2-16701d66c70f"
      },
      "execution_count": 32,
      "outputs": [
        {
          "output_type": "execute_result",
          "data": {
            "text/plain": [
              "0.9448"
            ]
          },
          "metadata": {},
          "execution_count": 32
        }
      ]
    },
    {
      "cell_type": "code",
      "source": [
        "subcat_pred = subcat_model.predict(X_test)\n",
        "accuracy_score(y2_test, subcat_pred)"
      ],
      "metadata": {
        "execution": {
          "iopub.status.busy": "2024-08-19T13:09:08.625133Z",
          "iopub.execute_input": "2024-08-19T13:09:08.62616Z",
          "iopub.status.idle": "2024-08-19T13:09:10.194011Z",
          "shell.execute_reply.started": "2024-08-19T13:09:08.626082Z",
          "shell.execute_reply": "2024-08-19T13:09:10.19284Z"
        },
        "trusted": true,
        "id": "gjadejqeB9qs",
        "colab": {
          "base_uri": "https://localhost:8080/"
        },
        "outputId": "8984678d-2c1d-4459-dc40-bae070ef73b1"
      },
      "execution_count": 33,
      "outputs": [
        {
          "output_type": "execute_result",
          "data": {
            "text/plain": [
              "0.8482666666666666"
            ]
          },
          "metadata": {},
          "execution_count": 33
        }
      ]
    },
    {
      "cell_type": "code",
      "source": [
        "f1_score(y1_test, cat_pred, average=\"macro\")"
      ],
      "metadata": {
        "execution": {
          "iopub.status.busy": "2024-08-19T13:09:41.757227Z",
          "iopub.execute_input": "2024-08-19T13:09:41.757628Z",
          "iopub.status.idle": "2024-08-19T13:09:41.773724Z",
          "shell.execute_reply.started": "2024-08-19T13:09:41.757596Z",
          "shell.execute_reply": "2024-08-19T13:09:41.772175Z"
        },
        "trusted": true,
        "id": "Cx0ls3FOB9qs",
        "colab": {
          "base_uri": "https://localhost:8080/"
        },
        "outputId": "33a6abb0-abd4-4d89-cea9-d620a7db15ce"
      },
      "execution_count": 34,
      "outputs": [
        {
          "output_type": "execute_result",
          "data": {
            "text/plain": [
              "0.9063861473885938"
            ]
          },
          "metadata": {},
          "execution_count": 34
        }
      ]
    },
    {
      "cell_type": "code",
      "source": [
        "print(classification_report(y1_test, cat_pred))"
      ],
      "metadata": {
        "execution": {
          "iopub.status.busy": "2024-08-19T13:09:48.84374Z",
          "iopub.execute_input": "2024-08-19T13:09:48.844227Z",
          "iopub.status.idle": "2024-08-19T13:09:48.888362Z",
          "shell.execute_reply.started": "2024-08-19T13:09:48.844188Z",
          "shell.execute_reply": "2024-08-19T13:09:48.887074Z"
        },
        "collapsed": true,
        "jupyter": {
          "outputs_hidden": true
        },
        "trusted": true,
        "id": "rQpMhr29B9qs",
        "colab": {
          "base_uri": "https://localhost:8080/"
        },
        "outputId": "f17185f7-8f63-4c09-d476-d80bee70d267"
      },
      "execution_count": 35,
      "outputs": [
        {
          "output_type": "stream",
          "name": "stdout",
          "text": [
            "              precision    recall  f1-score   support\n",
            "\n",
            "           0       0.86      0.91      0.89       536\n",
            "           1       0.95      0.96      0.96       917\n",
            "           2       0.94      0.98      0.96      1162\n",
            "           3       0.95      0.92      0.93      2117\n",
            "           4       0.96      0.95      0.96      2764\n",
            "           5       0.75      0.75      0.75         4\n",
            "\n",
            "    accuracy                           0.94      7500\n",
            "   macro avg       0.90      0.91      0.91      7500\n",
            "weighted avg       0.95      0.94      0.94      7500\n",
            "\n"
          ]
        }
      ]
    },
    {
      "cell_type": "markdown",
      "source": [
        "# Other Algorithms"
      ],
      "metadata": {
        "id": "rtKUA8xmB9qs"
      }
    },
    {
      "cell_type": "code",
      "source": [
        "def modeling(model, X_train, y_train, X_test, y_test):\n",
        "    model.fit(X_train, y_train)\n",
        "    y_pred = model.predict(X_test)\n",
        "    score = accuracy_score(y_test, y_pred)\n",
        "    print(f\"Model Accuarcy: {score*100}%\")\n",
        "    return y_pred"
      ],
      "metadata": {
        "execution": {
          "iopub.status.busy": "2024-08-19T13:10:29.612683Z",
          "iopub.execute_input": "2024-08-19T13:10:29.613091Z",
          "iopub.status.idle": "2024-08-19T13:10:29.619283Z",
          "shell.execute_reply.started": "2024-08-19T13:10:29.61305Z",
          "shell.execute_reply": "2024-08-19T13:10:29.618006Z"
        },
        "trusted": true,
        "id": "RQB3wZx7B9qs"
      },
      "execution_count": 36,
      "outputs": []
    },
    {
      "cell_type": "code",
      "source": [
        "from sklearn.linear_model import LogisticRegression\n",
        "from sklearn.neighbors import KNeighborsClassifier"
      ],
      "metadata": {
        "execution": {
          "iopub.status.busy": "2024-08-19T13:10:51.958955Z",
          "iopub.execute_input": "2024-08-19T13:10:51.959401Z",
          "iopub.status.idle": "2024-08-19T13:10:51.96602Z",
          "shell.execute_reply.started": "2024-08-19T13:10:51.959355Z",
          "shell.execute_reply": "2024-08-19T13:10:51.96477Z"
        },
        "trusted": true,
        "id": "RWF-mOVqB9qt"
      },
      "execution_count": 37,
      "outputs": []
    },
    {
      "cell_type": "markdown",
      "source": [
        "**K Nearest Neighbor**"
      ],
      "metadata": {
        "id": "p8og6K3cB9qu"
      }
    },
    {
      "cell_type": "code",
      "source": [
        "kn_model=KNeighborsClassifier()\n",
        "kn_ypred = modeling(kn_model, X_train, y1_train, X_test, y1_test)"
      ],
      "metadata": {
        "execution": {
          "iopub.status.busy": "2024-08-19T13:30:40.748686Z",
          "iopub.execute_input": "2024-08-19T13:30:40.749105Z",
          "iopub.status.idle": "2024-08-19T13:34:11.42109Z",
          "shell.execute_reply.started": "2024-08-19T13:30:40.749071Z",
          "shell.execute_reply": "2024-08-19T13:34:11.419795Z"
        },
        "trusted": true,
        "id": "C2nTG-HYB9qu"
      },
      "execution_count": null,
      "outputs": []
    },
    {
      "cell_type": "markdown",
      "source": [
        "**Logistics Regression**"
      ],
      "metadata": {
        "id": "00xScRevB9qu"
      }
    },
    {
      "cell_type": "code",
      "source": [
        "ln_cat_model=LogisticRegression()\n",
        "ln_cat_pred = modeling(ln_cat_model, X_train, y1_train, X_test, y1_test)"
      ],
      "metadata": {
        "execution": {
          "iopub.status.busy": "2024-08-19T13:49:05.318614Z",
          "iopub.execute_input": "2024-08-19T13:49:05.319162Z",
          "iopub.status.idle": "2024-08-19T13:52:49.394705Z",
          "shell.execute_reply.started": "2024-08-19T13:49:05.319096Z",
          "shell.execute_reply": "2024-08-19T13:52:49.392875Z"
        },
        "trusted": true,
        "id": "lAXAfgPhB9qu"
      },
      "execution_count": null,
      "outputs": []
    },
    {
      "cell_type": "code",
      "source": [
        "ln_subcat_model=LogisticRegression()\n",
        "ln_subcat_pred = modeling(ln_subcat_model, X_train, y2_train, X_test, y2_test)"
      ],
      "metadata": {
        "execution": {
          "iopub.status.busy": "2024-08-19T13:35:46.485854Z",
          "iopub.execute_input": "2024-08-19T13:35:46.486334Z",
          "iopub.status.idle": "2024-08-19T13:43:45.014544Z",
          "shell.execute_reply.started": "2024-08-19T13:35:46.486297Z",
          "shell.execute_reply": "2024-08-19T13:43:45.013357Z"
        },
        "trusted": true,
        "id": "AmA4giyHB9qu"
      },
      "execution_count": null,
      "outputs": []
    },
    {
      "cell_type": "markdown",
      "source": [
        "# Testing"
      ],
      "metadata": {
        "id": "A_tGeACpB9qu"
      }
    },
    {
      "cell_type": "code",
      "source": [
        "new_item=['haldiram bakarwadi']\n",
        "new_item_count=count_vec.transform(new_item)\n",
        "item_cat_pred = ln_cat_model.predict(new_item_count)\n",
        "item_subcat_pred = ln_subcat_model.predict(new_item_count)\n",
        "decoded_cat_label = list(cat_label_mapping.keys())[list(cat_label_mapping.values()).index(item_cat_pred)]\n",
        "decoded_subcat_label = list(subcat_label_mapping.keys())[list(subcat_label_mapping.values()).index(item_subcat_pred)]\n",
        "# print(item_subcat_pred)\n",
        "print(\"Category:\",decoded_cat_label)\n",
        "print(\"Sub Category:\",decoded_subcat_label)"
      ],
      "metadata": {
        "execution": {
          "iopub.status.busy": "2024-08-19T14:01:38.270389Z",
          "iopub.execute_input": "2024-08-19T14:01:38.270813Z",
          "iopub.status.idle": "2024-08-19T14:01:38.286516Z",
          "shell.execute_reply.started": "2024-08-19T14:01:38.270777Z",
          "shell.execute_reply": "2024-08-19T14:01:38.285011Z"
        },
        "trusted": true,
        "id": "Q0D4CgQ5B9qu"
      },
      "execution_count": null,
      "outputs": []
    }
  ]
}